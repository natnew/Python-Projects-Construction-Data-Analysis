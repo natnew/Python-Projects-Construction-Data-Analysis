{
  "nbformat": 4,
  "nbformat_minor": 0,
  "metadata": {
    "colab": {
      "name": "Data Science BootCamp - Working With Data in Python - Week 7 Task B.ipynb",
      "provenance": [],
      "authorship_tag": "ABX9TyMBm2b8BtYuP97n82NT0FK7",
      "include_colab_link": true
    },
    "kernelspec": {
      "name": "python3",
      "display_name": "Python 3"
    },
    "language_info": {
      "name": "python"
    }
  },
  "cells": [
    {
      "cell_type": "markdown",
      "metadata": {
        "id": "view-in-github",
        "colab_type": "text"
      },
      "source": [
        "<a href=\"https://colab.research.google.com/github/natnew/Python-Projects-Construction-Data-Analysis/blob/main/Data_Science_BootCamp_Working_With_Data_in_Python_Week_7_Task_B.ipynb\" target=\"_parent\"><img src=\"https://colab.research.google.com/assets/colab-badge.svg\" alt=\"Open In Colab\"/></a>"
      ]
    },
    {
      "cell_type": "markdown",
      "source": [
        "# Introduction"
      ],
      "metadata": {
        "id": "4jbRTgfiVkoS"
      }
    },
    {
      "cell_type": "markdown",
      "source": [
        "As discussed in the lectures this week, data pre-processing can be broken into three \n",
        "constituent processes: **data cleaning, data preparation and data transformation**. Data pre\u0002processing should be performed in that order (i.e. data cleaning first), for two reasons: firstly, \n",
        "as there are techniques applied in the later stages that have dependencies in the earlier \n",
        "stages, and secondly, as the condition of the data becomes more specialised (i.e. tailored for \n",
        "your purposes) the further one progresses through the pre-processing phase.\n",
        "Within each stage however, the order of operations is less defined. For instance, we shall \n",
        "begin today’s task with missing value analysis. There is no requirement for this to be the \n",
        "initial task within data cleaning; the important thing is just that all of the data cleaning is \n",
        "done before moving on to the data preparation phases, and likewise, that preparation is \n",
        "complete prior to any data transformation occurring."
      ],
      "metadata": {
        "id": "nimhbsdhVl1p"
      }
    },
    {
      "cell_type": "markdown",
      "source": [
        "*Please note that today’s task is not a comprehensive account of every process that you could \n",
        "possibly encounter within data pre-processing. Rather, it is designed to provide you with \n",
        "practical experience of performing some of the more common tasks within this phase of the \n",
        "data science workflow.*"
      ],
      "metadata": {
        "id": "BWdKAr4YZU8P"
      }
    },
    {
      "cell_type": "markdown",
      "source": [
        "Background to the Problem\n",
        "You have been given access to the Boston housing dataset, which provides data on several \n",
        "housing areas in Boston and the surrounding districts. You tasked with obtaining insight into \n",
        "the following questions:"
      ],
      "metadata": {
        "id": "xJmykCXMZhsr"
      }
    },
    {
      "cell_type": "markdown",
      "source": [
        "*\"Predicting the monetary value of properties in residential zones distant from the Charles \n",
        "River.”*"
      ],
      "metadata": {
        "id": "Z3Nud2siZixr"
      }
    },
    {
      "cell_type": "markdown",
      "source": [
        "You are required to condition this dataset into a format suitable to be used for statistical \n",
        "modelling, so that the above question may be effectively answered."
      ],
      "metadata": {
        "id": "rWSGBMtbZrhB"
      }
    },
    {
      "cell_type": "code",
      "source": [
        "#import Pnadas library\n",
        "import pandas as pd"
      ],
      "metadata": {
        "id": "mYhi3fYbVz2E"
      },
      "execution_count": 35,
      "outputs": []
    },
    {
      "cell_type": "code",
      "execution_count": 36,
      "metadata": {
        "id": "7qyVQeWtVaRc"
      },
      "outputs": [],
      "source": [
        "#Read the csv file\n",
        "df = pd.read_csv('housing.csv')"
      ]
    },
    {
      "cell_type": "markdown",
      "source": [
        "Display the first 50 rows of the dataframe to get an overview of the data. You may notice \n",
        "just through the eye test that some of the data are missing (cells containing ‘NaN’). We can \n",
        "check for the proportion of missing values using the pd.isna() function, where the value of \n",
        "“NaN” is used by Python to denote missingness. The feature (column) “RM” seems to have \n",
        "some missing values, so we will start there. Use the following commands:"
      ],
      "metadata": {
        "id": "ZoMgwLDEaBoJ"
      }
    },
    {
      "cell_type": "code",
      "source": [
        "df[:50]"
      ],
      "metadata": {
        "colab": {
          "base_uri": "https://localhost:8080/",
          "height": 1000
        },
        "id": "TxJQ3NnwaCpj",
        "outputId": "bede6943-8fbe-482c-e69c-5626a7ac2423"
      },
      "execution_count": 37,
      "outputs": [
        {
          "output_type": "execute_result",
          "data": {
            "text/html": [
              "\n",
              "  <div id=\"df-b784c940-1272-4fa9-b920-0fe3f3f0fcfa\">\n",
              "    <div class=\"colab-df-container\">\n",
              "      <div>\n",
              "<style scoped>\n",
              "    .dataframe tbody tr th:only-of-type {\n",
              "        vertical-align: middle;\n",
              "    }\n",
              "\n",
              "    .dataframe tbody tr th {\n",
              "        vertical-align: top;\n",
              "    }\n",
              "\n",
              "    .dataframe thead th {\n",
              "        text-align: right;\n",
              "    }\n",
              "</style>\n",
              "<table border=\"1\" class=\"dataframe\">\n",
              "  <thead>\n",
              "    <tr style=\"text-align: right;\">\n",
              "      <th></th>\n",
              "      <th>CID</th>\n",
              "      <th>CRIM</th>\n",
              "      <th>ZN</th>\n",
              "      <th>INDUS</th>\n",
              "      <th>CHAS</th>\n",
              "      <th>NOX</th>\n",
              "      <th>RM</th>\n",
              "      <th>AGE</th>\n",
              "      <th>DIS</th>\n",
              "      <th>RAD</th>\n",
              "      <th>TAX</th>\n",
              "      <th>PTRATIO</th>\n",
              "      <th>MEDV</th>\n",
              "    </tr>\n",
              "  </thead>\n",
              "  <tbody>\n",
              "    <tr>\n",
              "      <th>0</th>\n",
              "      <td>208</td>\n",
              "      <td>0.00632</td>\n",
              "      <td>18.0</td>\n",
              "      <td>2.31</td>\n",
              "      <td>0</td>\n",
              "      <td>0.538</td>\n",
              "      <td>6.575</td>\n",
              "      <td>65.2</td>\n",
              "      <td>4.0900</td>\n",
              "      <td>1</td>\n",
              "      <td>296</td>\n",
              "      <td>15.3</td>\n",
              "      <td>24.0</td>\n",
              "    </tr>\n",
              "    <tr>\n",
              "      <th>1</th>\n",
              "      <td>778</td>\n",
              "      <td>0.02731</td>\n",
              "      <td>0.0</td>\n",
              "      <td>7.07</td>\n",
              "      <td>0</td>\n",
              "      <td>0.469</td>\n",
              "      <td>6.421</td>\n",
              "      <td>78.9</td>\n",
              "      <td>4.9671</td>\n",
              "      <td>2</td>\n",
              "      <td>242</td>\n",
              "      <td>17.8</td>\n",
              "      <td>21.6</td>\n",
              "    </tr>\n",
              "    <tr>\n",
              "      <th>2</th>\n",
              "      <td>79</td>\n",
              "      <td>0.02729</td>\n",
              "      <td>0.0</td>\n",
              "      <td>7.07</td>\n",
              "      <td>0</td>\n",
              "      <td>0.469</td>\n",
              "      <td>NaN</td>\n",
              "      <td>61.1</td>\n",
              "      <td>4.9671</td>\n",
              "      <td>2</td>\n",
              "      <td>242</td>\n",
              "      <td>17.8</td>\n",
              "      <td>34.7</td>\n",
              "    </tr>\n",
              "    <tr>\n",
              "      <th>3</th>\n",
              "      <td>197</td>\n",
              "      <td>0.03237</td>\n",
              "      <td>0.0</td>\n",
              "      <td>2.18</td>\n",
              "      <td>0</td>\n",
              "      <td>0.458</td>\n",
              "      <td>6.998</td>\n",
              "      <td>45.8</td>\n",
              "      <td>6.0622</td>\n",
              "      <td>3</td>\n",
              "      <td>222</td>\n",
              "      <td>18.7</td>\n",
              "      <td>33.4</td>\n",
              "    </tr>\n",
              "    <tr>\n",
              "      <th>4</th>\n",
              "      <td>687</td>\n",
              "      <td>0.06905</td>\n",
              "      <td>0.0</td>\n",
              "      <td>2.18</td>\n",
              "      <td>0</td>\n",
              "      <td>0.458</td>\n",
              "      <td>7.147</td>\n",
              "      <td>54.2</td>\n",
              "      <td>6.0622</td>\n",
              "      <td>3</td>\n",
              "      <td>222</td>\n",
              "      <td>18.7</td>\n",
              "      <td>36.2</td>\n",
              "    </tr>\n",
              "    <tr>\n",
              "      <th>5</th>\n",
              "      <td>587</td>\n",
              "      <td>0.02985</td>\n",
              "      <td>0.0</td>\n",
              "      <td>2.18</td>\n",
              "      <td>0</td>\n",
              "      <td>0.458</td>\n",
              "      <td>6.430</td>\n",
              "      <td>58.7</td>\n",
              "      <td>6.0622</td>\n",
              "      <td>3</td>\n",
              "      <td>222</td>\n",
              "      <td>18.7</td>\n",
              "      <td>28.7</td>\n",
              "    </tr>\n",
              "    <tr>\n",
              "      <th>6</th>\n",
              "      <td>743</td>\n",
              "      <td>0.08829</td>\n",
              "      <td>12.5</td>\n",
              "      <td>7.87</td>\n",
              "      <td>0</td>\n",
              "      <td>0.524</td>\n",
              "      <td>6.012</td>\n",
              "      <td>66.6</td>\n",
              "      <td>5.5605</td>\n",
              "      <td>5</td>\n",
              "      <td>311</td>\n",
              "      <td>15.2</td>\n",
              "      <td>22.9</td>\n",
              "    </tr>\n",
              "    <tr>\n",
              "      <th>7</th>\n",
              "      <td>689</td>\n",
              "      <td>0.14455</td>\n",
              "      <td>12.5</td>\n",
              "      <td>7.87</td>\n",
              "      <td>0</td>\n",
              "      <td>0.524</td>\n",
              "      <td>6.172</td>\n",
              "      <td>96.1</td>\n",
              "      <td>5.9505</td>\n",
              "      <td>5</td>\n",
              "      <td>311</td>\n",
              "      <td>15.2</td>\n",
              "      <td>27.1</td>\n",
              "    </tr>\n",
              "    <tr>\n",
              "      <th>8</th>\n",
              "      <td>420</td>\n",
              "      <td>0.21124</td>\n",
              "      <td>12.5</td>\n",
              "      <td>7.87</td>\n",
              "      <td>0</td>\n",
              "      <td>0.524</td>\n",
              "      <td>5.631</td>\n",
              "      <td>100.0</td>\n",
              "      <td>6.0821</td>\n",
              "      <td>5</td>\n",
              "      <td>311</td>\n",
              "      <td>15.2</td>\n",
              "      <td>16.5</td>\n",
              "    </tr>\n",
              "    <tr>\n",
              "      <th>9</th>\n",
              "      <td>521</td>\n",
              "      <td>0.17004</td>\n",
              "      <td>12.5</td>\n",
              "      <td>7.87</td>\n",
              "      <td>0</td>\n",
              "      <td>0.524</td>\n",
              "      <td>6.004</td>\n",
              "      <td>85.9</td>\n",
              "      <td>6.5921</td>\n",
              "      <td>5</td>\n",
              "      <td>311</td>\n",
              "      <td>15.2</td>\n",
              "      <td>18.9</td>\n",
              "    </tr>\n",
              "    <tr>\n",
              "      <th>10</th>\n",
              "      <td>628</td>\n",
              "      <td>0.22489</td>\n",
              "      <td>12.5</td>\n",
              "      <td>7.87</td>\n",
              "      <td>0</td>\n",
              "      <td>0.524</td>\n",
              "      <td>NaN</td>\n",
              "      <td>94.3</td>\n",
              "      <td>6.3467</td>\n",
              "      <td>5</td>\n",
              "      <td>311</td>\n",
              "      <td>15.2</td>\n",
              "      <td>15.0</td>\n",
              "    </tr>\n",
              "    <tr>\n",
              "      <th>11</th>\n",
              "      <td>555</td>\n",
              "      <td>0.11747</td>\n",
              "      <td>12.5</td>\n",
              "      <td>7.87</td>\n",
              "      <td>0</td>\n",
              "      <td>0.524</td>\n",
              "      <td>NaN</td>\n",
              "      <td>82.9</td>\n",
              "      <td>6.2267</td>\n",
              "      <td>5</td>\n",
              "      <td>311</td>\n",
              "      <td>15.2</td>\n",
              "      <td>18.9</td>\n",
              "    </tr>\n",
              "    <tr>\n",
              "      <th>12</th>\n",
              "      <td>950</td>\n",
              "      <td>0.09378</td>\n",
              "      <td>12.5</td>\n",
              "      <td>7.87</td>\n",
              "      <td>0</td>\n",
              "      <td>0.524</td>\n",
              "      <td>5.889</td>\n",
              "      <td>39.0</td>\n",
              "      <td>5.4509</td>\n",
              "      <td>5</td>\n",
              "      <td>311</td>\n",
              "      <td>15.2</td>\n",
              "      <td>21.7</td>\n",
              "    </tr>\n",
              "    <tr>\n",
              "      <th>13</th>\n",
              "      <td>249</td>\n",
              "      <td>0.62976</td>\n",
              "      <td>0.0</td>\n",
              "      <td>8.14</td>\n",
              "      <td>0</td>\n",
              "      <td>0.538</td>\n",
              "      <td>5.949</td>\n",
              "      <td>61.8</td>\n",
              "      <td>4.7075</td>\n",
              "      <td>4</td>\n",
              "      <td>307</td>\n",
              "      <td>21.0</td>\n",
              "      <td>20.4</td>\n",
              "    </tr>\n",
              "    <tr>\n",
              "      <th>14</th>\n",
              "      <td>825</td>\n",
              "      <td>0.63796</td>\n",
              "      <td>0.0</td>\n",
              "      <td>8.14</td>\n",
              "      <td>0</td>\n",
              "      <td>0.538</td>\n",
              "      <td>6.096</td>\n",
              "      <td>84.5</td>\n",
              "      <td>4.4619</td>\n",
              "      <td>4</td>\n",
              "      <td>307</td>\n",
              "      <td>21.0</td>\n",
              "      <td>18.2</td>\n",
              "    </tr>\n",
              "    <tr>\n",
              "      <th>15</th>\n",
              "      <td>418</td>\n",
              "      <td>0.62739</td>\n",
              "      <td>0.0</td>\n",
              "      <td>8.14</td>\n",
              "      <td>0</td>\n",
              "      <td>0.538</td>\n",
              "      <td>5.834</td>\n",
              "      <td>56.5</td>\n",
              "      <td>4.4986</td>\n",
              "      <td>4</td>\n",
              "      <td>307</td>\n",
              "      <td>21.0</td>\n",
              "      <td>19.9</td>\n",
              "    </tr>\n",
              "    <tr>\n",
              "      <th>16</th>\n",
              "      <td>957</td>\n",
              "      <td>1.05393</td>\n",
              "      <td>0.0</td>\n",
              "      <td>8.14</td>\n",
              "      <td>0</td>\n",
              "      <td>0.538</td>\n",
              "      <td>5.935</td>\n",
              "      <td>29.3</td>\n",
              "      <td>4.4986</td>\n",
              "      <td>4</td>\n",
              "      <td>307</td>\n",
              "      <td>21.0</td>\n",
              "      <td>23.1</td>\n",
              "    </tr>\n",
              "    <tr>\n",
              "      <th>17</th>\n",
              "      <td>554</td>\n",
              "      <td>0.78420</td>\n",
              "      <td>0.0</td>\n",
              "      <td>8.14</td>\n",
              "      <td>0</td>\n",
              "      <td>0.538</td>\n",
              "      <td>5.990</td>\n",
              "      <td>81.7</td>\n",
              "      <td>4.2579</td>\n",
              "      <td>4</td>\n",
              "      <td>307</td>\n",
              "      <td>21.0</td>\n",
              "      <td>17.5</td>\n",
              "    </tr>\n",
              "    <tr>\n",
              "      <th>18</th>\n",
              "      <td>710</td>\n",
              "      <td>0.80271</td>\n",
              "      <td>0.0</td>\n",
              "      <td>8.14</td>\n",
              "      <td>0</td>\n",
              "      <td>0.538</td>\n",
              "      <td>5.456</td>\n",
              "      <td>36.6</td>\n",
              "      <td>3.7965</td>\n",
              "      <td>4</td>\n",
              "      <td>307</td>\n",
              "      <td>21.0</td>\n",
              "      <td>20.2</td>\n",
              "    </tr>\n",
              "    <tr>\n",
              "      <th>19</th>\n",
              "      <td>621</td>\n",
              "      <td>0.72580</td>\n",
              "      <td>0.0</td>\n",
              "      <td>8.14</td>\n",
              "      <td>0</td>\n",
              "      <td>0.538</td>\n",
              "      <td>5.727</td>\n",
              "      <td>69.5</td>\n",
              "      <td>3.7965</td>\n",
              "      <td>4</td>\n",
              "      <td>307</td>\n",
              "      <td>21.0</td>\n",
              "      <td>18.2</td>\n",
              "    </tr>\n",
              "    <tr>\n",
              "      <th>20</th>\n",
              "      <td>14</td>\n",
              "      <td>1.25179</td>\n",
              "      <td>0.0</td>\n",
              "      <td>8.14</td>\n",
              "      <td>0</td>\n",
              "      <td>0.538</td>\n",
              "      <td>5.570</td>\n",
              "      <td>98.1</td>\n",
              "      <td>3.7979</td>\n",
              "      <td>4</td>\n",
              "      <td>307</td>\n",
              "      <td>21.0</td>\n",
              "      <td>13.6</td>\n",
              "    </tr>\n",
              "    <tr>\n",
              "      <th>21</th>\n",
              "      <td>837</td>\n",
              "      <td>0.85204</td>\n",
              "      <td>0.0</td>\n",
              "      <td>8.14</td>\n",
              "      <td>0</td>\n",
              "      <td>0.538</td>\n",
              "      <td>5.965</td>\n",
              "      <td>89.2</td>\n",
              "      <td>4.0123</td>\n",
              "      <td>4</td>\n",
              "      <td>307</td>\n",
              "      <td>21.0</td>\n",
              "      <td>19.6</td>\n",
              "    </tr>\n",
              "    <tr>\n",
              "      <th>22</th>\n",
              "      <td>929</td>\n",
              "      <td>1.23247</td>\n",
              "      <td>0.0</td>\n",
              "      <td>8.14</td>\n",
              "      <td>0</td>\n",
              "      <td>0.538</td>\n",
              "      <td>6.142</td>\n",
              "      <td>91.7</td>\n",
              "      <td>3.9769</td>\n",
              "      <td>4</td>\n",
              "      <td>307</td>\n",
              "      <td>21.0</td>\n",
              "      <td>15.2</td>\n",
              "    </tr>\n",
              "    <tr>\n",
              "      <th>23</th>\n",
              "      <td>235</td>\n",
              "      <td>0.98843</td>\n",
              "      <td>0.0</td>\n",
              "      <td>8.14</td>\n",
              "      <td>0</td>\n",
              "      <td>0.538</td>\n",
              "      <td>5.813</td>\n",
              "      <td>100.0</td>\n",
              "      <td>4.0952</td>\n",
              "      <td>4</td>\n",
              "      <td>307</td>\n",
              "      <td>21.0</td>\n",
              "      <td>14.5</td>\n",
              "    </tr>\n",
              "    <tr>\n",
              "      <th>24</th>\n",
              "      <td>613</td>\n",
              "      <td>0.75026</td>\n",
              "      <td>0.0</td>\n",
              "      <td>8.14</td>\n",
              "      <td>0</td>\n",
              "      <td>0.538</td>\n",
              "      <td>5.924</td>\n",
              "      <td>94.1</td>\n",
              "      <td>4.3996</td>\n",
              "      <td>4</td>\n",
              "      <td>307</td>\n",
              "      <td>21.0</td>\n",
              "      <td>15.6</td>\n",
              "    </tr>\n",
              "    <tr>\n",
              "      <th>25</th>\n",
              "      <td>429</td>\n",
              "      <td>0.84054</td>\n",
              "      <td>0.0</td>\n",
              "      <td>8.14</td>\n",
              "      <td>0</td>\n",
              "      <td>0.538</td>\n",
              "      <td>5.599</td>\n",
              "      <td>85.7</td>\n",
              "      <td>4.4546</td>\n",
              "      <td>4</td>\n",
              "      <td>307</td>\n",
              "      <td>21.0</td>\n",
              "      <td>13.9</td>\n",
              "    </tr>\n",
              "    <tr>\n",
              "      <th>26</th>\n",
              "      <td>539</td>\n",
              "      <td>0.67191</td>\n",
              "      <td>0.0</td>\n",
              "      <td>8.14</td>\n",
              "      <td>0</td>\n",
              "      <td>0.538</td>\n",
              "      <td>5.813</td>\n",
              "      <td>90.3</td>\n",
              "      <td>4.6820</td>\n",
              "      <td>4</td>\n",
              "      <td>307</td>\n",
              "      <td>21.0</td>\n",
              "      <td>16.6</td>\n",
              "    </tr>\n",
              "    <tr>\n",
              "      <th>27</th>\n",
              "      <td>927</td>\n",
              "      <td>0.95577</td>\n",
              "      <td>0.0</td>\n",
              "      <td>8.14</td>\n",
              "      <td>0</td>\n",
              "      <td>0.538</td>\n",
              "      <td>NaN</td>\n",
              "      <td>88.8</td>\n",
              "      <td>4.4534</td>\n",
              "      <td>4</td>\n",
              "      <td>307</td>\n",
              "      <td>21.0</td>\n",
              "      <td>14.8</td>\n",
              "    </tr>\n",
              "    <tr>\n",
              "      <th>28</th>\n",
              "      <td>348</td>\n",
              "      <td>0.77299</td>\n",
              "      <td>0.0</td>\n",
              "      <td>8.14</td>\n",
              "      <td>0</td>\n",
              "      <td>0.538</td>\n",
              "      <td>6.495</td>\n",
              "      <td>94.4</td>\n",
              "      <td>4.4547</td>\n",
              "      <td>4</td>\n",
              "      <td>307</td>\n",
              "      <td>21.0</td>\n",
              "      <td>18.4</td>\n",
              "    </tr>\n",
              "    <tr>\n",
              "      <th>29</th>\n",
              "      <td>67</td>\n",
              "      <td>1.00245</td>\n",
              "      <td>0.0</td>\n",
              "      <td>8.14</td>\n",
              "      <td>0</td>\n",
              "      <td>0.538</td>\n",
              "      <td>6.674</td>\n",
              "      <td>87.3</td>\n",
              "      <td>4.2390</td>\n",
              "      <td>4</td>\n",
              "      <td>307</td>\n",
              "      <td>21.0</td>\n",
              "      <td>21.0</td>\n",
              "    </tr>\n",
              "    <tr>\n",
              "      <th>30</th>\n",
              "      <td>546</td>\n",
              "      <td>1.13081</td>\n",
              "      <td>0.0</td>\n",
              "      <td>8.14</td>\n",
              "      <td>0</td>\n",
              "      <td>0.538</td>\n",
              "      <td>5.713</td>\n",
              "      <td>94.1</td>\n",
              "      <td>4.2330</td>\n",
              "      <td>4</td>\n",
              "      <td>307</td>\n",
              "      <td>21.0</td>\n",
              "      <td>12.7</td>\n",
              "    </tr>\n",
              "    <tr>\n",
              "      <th>31</th>\n",
              "      <td>230</td>\n",
              "      <td>1.35472</td>\n",
              "      <td>0.0</td>\n",
              "      <td>8.14</td>\n",
              "      <td>0</td>\n",
              "      <td>0.538</td>\n",
              "      <td>6.072</td>\n",
              "      <td>100.0</td>\n",
              "      <td>4.1750</td>\n",
              "      <td>4</td>\n",
              "      <td>307</td>\n",
              "      <td>21.0</td>\n",
              "      <td>14.5</td>\n",
              "    </tr>\n",
              "    <tr>\n",
              "      <th>32</th>\n",
              "      <td>954</td>\n",
              "      <td>1.38799</td>\n",
              "      <td>0.0</td>\n",
              "      <td>8.14</td>\n",
              "      <td>0</td>\n",
              "      <td>0.538</td>\n",
              "      <td>5.950</td>\n",
              "      <td>82.0</td>\n",
              "      <td>3.9900</td>\n",
              "      <td>4</td>\n",
              "      <td>307</td>\n",
              "      <td>21.0</td>\n",
              "      <td>13.2</td>\n",
              "    </tr>\n",
              "    <tr>\n",
              "      <th>33</th>\n",
              "      <td>976</td>\n",
              "      <td>1.15172</td>\n",
              "      <td>0.0</td>\n",
              "      <td>8.14</td>\n",
              "      <td>0</td>\n",
              "      <td>0.538</td>\n",
              "      <td>5.701</td>\n",
              "      <td>95.0</td>\n",
              "      <td>3.7872</td>\n",
              "      <td>4</td>\n",
              "      <td>307</td>\n",
              "      <td>21.0</td>\n",
              "      <td>13.1</td>\n",
              "    </tr>\n",
              "    <tr>\n",
              "      <th>34</th>\n",
              "      <td>902</td>\n",
              "      <td>1.61282</td>\n",
              "      <td>0.0</td>\n",
              "      <td>8.14</td>\n",
              "      <td>0</td>\n",
              "      <td>0.538</td>\n",
              "      <td>6.096</td>\n",
              "      <td>96.9</td>\n",
              "      <td>3.7598</td>\n",
              "      <td>4</td>\n",
              "      <td>307</td>\n",
              "      <td>21.0</td>\n",
              "      <td>13.5</td>\n",
              "    </tr>\n",
              "    <tr>\n",
              "      <th>35</th>\n",
              "      <td>969</td>\n",
              "      <td>0.06417</td>\n",
              "      <td>0.0</td>\n",
              "      <td>5.96</td>\n",
              "      <td>0</td>\n",
              "      <td>0.499</td>\n",
              "      <td>NaN</td>\n",
              "      <td>68.2</td>\n",
              "      <td>3.3603</td>\n",
              "      <td>5</td>\n",
              "      <td>279</td>\n",
              "      <td>19.2</td>\n",
              "      <td>18.9</td>\n",
              "    </tr>\n",
              "    <tr>\n",
              "      <th>36</th>\n",
              "      <td>945</td>\n",
              "      <td>0.09744</td>\n",
              "      <td>0.0</td>\n",
              "      <td>5.96</td>\n",
              "      <td>0</td>\n",
              "      <td>0.499</td>\n",
              "      <td>5.841</td>\n",
              "      <td>61.4</td>\n",
              "      <td>NaN</td>\n",
              "      <td>5</td>\n",
              "      <td>279</td>\n",
              "      <td>19.2</td>\n",
              "      <td>20.0</td>\n",
              "    </tr>\n",
              "    <tr>\n",
              "      <th>37</th>\n",
              "      <td>426</td>\n",
              "      <td>0.08014</td>\n",
              "      <td>0.0</td>\n",
              "      <td>5.96</td>\n",
              "      <td>0</td>\n",
              "      <td>0.499</td>\n",
              "      <td>5.850</td>\n",
              "      <td>41.5</td>\n",
              "      <td>3.9342</td>\n",
              "      <td>5</td>\n",
              "      <td>279</td>\n",
              "      <td>19.2</td>\n",
              "      <td>21.0</td>\n",
              "    </tr>\n",
              "    <tr>\n",
              "      <th>38</th>\n",
              "      <td>942</td>\n",
              "      <td>0.17505</td>\n",
              "      <td>0.0</td>\n",
              "      <td>5.96</td>\n",
              "      <td>0</td>\n",
              "      <td>0.499</td>\n",
              "      <td>5.966</td>\n",
              "      <td>30.2</td>\n",
              "      <td>3.8473</td>\n",
              "      <td>5</td>\n",
              "      <td>279</td>\n",
              "      <td>19.2</td>\n",
              "      <td>24.7</td>\n",
              "    </tr>\n",
              "    <tr>\n",
              "      <th>39</th>\n",
              "      <td>513</td>\n",
              "      <td>0.02763</td>\n",
              "      <td>75.0</td>\n",
              "      <td>2.95</td>\n",
              "      <td>0</td>\n",
              "      <td>0.428</td>\n",
              "      <td>6.595</td>\n",
              "      <td>21.8</td>\n",
              "      <td>5.4011</td>\n",
              "      <td>3</td>\n",
              "      <td>252</td>\n",
              "      <td>18.3</td>\n",
              "      <td>30.8</td>\n",
              "    </tr>\n",
              "    <tr>\n",
              "      <th>40</th>\n",
              "      <td>262</td>\n",
              "      <td>0.03359</td>\n",
              "      <td>75.0</td>\n",
              "      <td>2.95</td>\n",
              "      <td>0</td>\n",
              "      <td>0.428</td>\n",
              "      <td>7.024</td>\n",
              "      <td>15.8</td>\n",
              "      <td>5.4011</td>\n",
              "      <td>3</td>\n",
              "      <td>252</td>\n",
              "      <td>18.3</td>\n",
              "      <td>34.9</td>\n",
              "    </tr>\n",
              "    <tr>\n",
              "      <th>41</th>\n",
              "      <td>520</td>\n",
              "      <td>0.12744</td>\n",
              "      <td>0.0</td>\n",
              "      <td>6.91</td>\n",
              "      <td>0</td>\n",
              "      <td>0.448</td>\n",
              "      <td>6.770</td>\n",
              "      <td>2.9</td>\n",
              "      <td>5.7209</td>\n",
              "      <td>3</td>\n",
              "      <td>233</td>\n",
              "      <td>17.9</td>\n",
              "      <td>26.6</td>\n",
              "    </tr>\n",
              "    <tr>\n",
              "      <th>42</th>\n",
              "      <td>982</td>\n",
              "      <td>0.14150</td>\n",
              "      <td>0.0</td>\n",
              "      <td>6.91</td>\n",
              "      <td>0</td>\n",
              "      <td>0.448</td>\n",
              "      <td>6.169</td>\n",
              "      <td>6.6</td>\n",
              "      <td>5.7209</td>\n",
              "      <td>3</td>\n",
              "      <td>233</td>\n",
              "      <td>17.9</td>\n",
              "      <td>25.3</td>\n",
              "    </tr>\n",
              "    <tr>\n",
              "      <th>43</th>\n",
              "      <td>606</td>\n",
              "      <td>0.15936</td>\n",
              "      <td>0.0</td>\n",
              "      <td>6.91</td>\n",
              "      <td>0</td>\n",
              "      <td>0.448</td>\n",
              "      <td>6.211</td>\n",
              "      <td>6.5</td>\n",
              "      <td>5.7209</td>\n",
              "      <td>3</td>\n",
              "      <td>233</td>\n",
              "      <td>17.9</td>\n",
              "      <td>24.7</td>\n",
              "    </tr>\n",
              "    <tr>\n",
              "      <th>44</th>\n",
              "      <td>180</td>\n",
              "      <td>0.12269</td>\n",
              "      <td>0.0</td>\n",
              "      <td>6.91</td>\n",
              "      <td>0</td>\n",
              "      <td>0.448</td>\n",
              "      <td>6.069</td>\n",
              "      <td>40.0</td>\n",
              "      <td>5.7209</td>\n",
              "      <td>3</td>\n",
              "      <td>233</td>\n",
              "      <td>17.9</td>\n",
              "      <td>21.2</td>\n",
              "    </tr>\n",
              "    <tr>\n",
              "      <th>45</th>\n",
              "      <td>924</td>\n",
              "      <td>0.17142</td>\n",
              "      <td>0.0</td>\n",
              "      <td>6.91</td>\n",
              "      <td>0</td>\n",
              "      <td>0.448</td>\n",
              "      <td>5.682</td>\n",
              "      <td>33.8</td>\n",
              "      <td>5.1004</td>\n",
              "      <td>3</td>\n",
              "      <td>233</td>\n",
              "      <td>17.9</td>\n",
              "      <td>19.3</td>\n",
              "    </tr>\n",
              "    <tr>\n",
              "      <th>46</th>\n",
              "      <td>921</td>\n",
              "      <td>0.18836</td>\n",
              "      <td>0.0</td>\n",
              "      <td>6.91</td>\n",
              "      <td>0</td>\n",
              "      <td>0.448</td>\n",
              "      <td>5.786</td>\n",
              "      <td>33.3</td>\n",
              "      <td>NaN</td>\n",
              "      <td>3</td>\n",
              "      <td>233</td>\n",
              "      <td>17.9</td>\n",
              "      <td>20.0</td>\n",
              "    </tr>\n",
              "    <tr>\n",
              "      <th>47</th>\n",
              "      <td>733</td>\n",
              "      <td>0.22927</td>\n",
              "      <td>0.0</td>\n",
              "      <td>6.91</td>\n",
              "      <td>0</td>\n",
              "      <td>0.448</td>\n",
              "      <td>6.030</td>\n",
              "      <td>85.5</td>\n",
              "      <td>5.6894</td>\n",
              "      <td>3</td>\n",
              "      <td>233</td>\n",
              "      <td>17.9</td>\n",
              "      <td>16.6</td>\n",
              "    </tr>\n",
              "    <tr>\n",
              "      <th>48</th>\n",
              "      <td>371</td>\n",
              "      <td>0.25387</td>\n",
              "      <td>0.0</td>\n",
              "      <td>6.91</td>\n",
              "      <td>0</td>\n",
              "      <td>0.448</td>\n",
              "      <td>5.399</td>\n",
              "      <td>95.3</td>\n",
              "      <td>5.8700</td>\n",
              "      <td>3</td>\n",
              "      <td>233</td>\n",
              "      <td>17.9</td>\n",
              "      <td>14.4</td>\n",
              "    </tr>\n",
              "    <tr>\n",
              "      <th>49</th>\n",
              "      <td>425</td>\n",
              "      <td>0.21977</td>\n",
              "      <td>0.0</td>\n",
              "      <td>6.91</td>\n",
              "      <td>0</td>\n",
              "      <td>0.448</td>\n",
              "      <td>5.602</td>\n",
              "      <td>62.0</td>\n",
              "      <td>NaN</td>\n",
              "      <td>3</td>\n",
              "      <td>233</td>\n",
              "      <td>17.9</td>\n",
              "      <td>19.4</td>\n",
              "    </tr>\n",
              "  </tbody>\n",
              "</table>\n",
              "</div>\n",
              "      <button class=\"colab-df-convert\" onclick=\"convertToInteractive('df-b784c940-1272-4fa9-b920-0fe3f3f0fcfa')\"\n",
              "              title=\"Convert this dataframe to an interactive table.\"\n",
              "              style=\"display:none;\">\n",
              "        \n",
              "  <svg xmlns=\"http://www.w3.org/2000/svg\" height=\"24px\"viewBox=\"0 0 24 24\"\n",
              "       width=\"24px\">\n",
              "    <path d=\"M0 0h24v24H0V0z\" fill=\"none\"/>\n",
              "    <path d=\"M18.56 5.44l.94 2.06.94-2.06 2.06-.94-2.06-.94-.94-2.06-.94 2.06-2.06.94zm-11 1L8.5 8.5l.94-2.06 2.06-.94-2.06-.94L8.5 2.5l-.94 2.06-2.06.94zm10 10l.94 2.06.94-2.06 2.06-.94-2.06-.94-.94-2.06-.94 2.06-2.06.94z\"/><path d=\"M17.41 7.96l-1.37-1.37c-.4-.4-.92-.59-1.43-.59-.52 0-1.04.2-1.43.59L10.3 9.45l-7.72 7.72c-.78.78-.78 2.05 0 2.83L4 21.41c.39.39.9.59 1.41.59.51 0 1.02-.2 1.41-.59l7.78-7.78 2.81-2.81c.8-.78.8-2.07 0-2.86zM5.41 20L4 18.59l7.72-7.72 1.47 1.35L5.41 20z\"/>\n",
              "  </svg>\n",
              "      </button>\n",
              "      \n",
              "  <style>\n",
              "    .colab-df-container {\n",
              "      display:flex;\n",
              "      flex-wrap:wrap;\n",
              "      gap: 12px;\n",
              "    }\n",
              "\n",
              "    .colab-df-convert {\n",
              "      background-color: #E8F0FE;\n",
              "      border: none;\n",
              "      border-radius: 50%;\n",
              "      cursor: pointer;\n",
              "      display: none;\n",
              "      fill: #1967D2;\n",
              "      height: 32px;\n",
              "      padding: 0 0 0 0;\n",
              "      width: 32px;\n",
              "    }\n",
              "\n",
              "    .colab-df-convert:hover {\n",
              "      background-color: #E2EBFA;\n",
              "      box-shadow: 0px 1px 2px rgba(60, 64, 67, 0.3), 0px 1px 3px 1px rgba(60, 64, 67, 0.15);\n",
              "      fill: #174EA6;\n",
              "    }\n",
              "\n",
              "    [theme=dark] .colab-df-convert {\n",
              "      background-color: #3B4455;\n",
              "      fill: #D2E3FC;\n",
              "    }\n",
              "\n",
              "    [theme=dark] .colab-df-convert:hover {\n",
              "      background-color: #434B5C;\n",
              "      box-shadow: 0px 1px 3px 1px rgba(0, 0, 0, 0.15);\n",
              "      filter: drop-shadow(0px 1px 2px rgba(0, 0, 0, 0.3));\n",
              "      fill: #FFFFFF;\n",
              "    }\n",
              "  </style>\n",
              "\n",
              "      <script>\n",
              "        const buttonEl =\n",
              "          document.querySelector('#df-b784c940-1272-4fa9-b920-0fe3f3f0fcfa button.colab-df-convert');\n",
              "        buttonEl.style.display =\n",
              "          google.colab.kernel.accessAllowed ? 'block' : 'none';\n",
              "\n",
              "        async function convertToInteractive(key) {\n",
              "          const element = document.querySelector('#df-b784c940-1272-4fa9-b920-0fe3f3f0fcfa');\n",
              "          const dataTable =\n",
              "            await google.colab.kernel.invokeFunction('convertToInteractive',\n",
              "                                                     [key], {});\n",
              "          if (!dataTable) return;\n",
              "\n",
              "          const docLinkHtml = 'Like what you see? Visit the ' +\n",
              "            '<a target=\"_blank\" href=https://colab.research.google.com/notebooks/data_table.ipynb>data table notebook</a>'\n",
              "            + ' to learn more about interactive tables.';\n",
              "          element.innerHTML = '';\n",
              "          dataTable['output_type'] = 'display_data';\n",
              "          await google.colab.output.renderOutput(dataTable, element);\n",
              "          const docLink = document.createElement('div');\n",
              "          docLink.innerHTML = docLinkHtml;\n",
              "          element.appendChild(docLink);\n",
              "        }\n",
              "      </script>\n",
              "    </div>\n",
              "  </div>\n",
              "  "
            ],
            "text/plain": [
              "    CID     CRIM    ZN  INDUS  CHAS  ...     DIS  RAD  TAX  PTRATIO  MEDV\n",
              "0   208  0.00632  18.0   2.31     0  ...  4.0900    1  296     15.3  24.0\n",
              "1   778  0.02731   0.0   7.07     0  ...  4.9671    2  242     17.8  21.6\n",
              "2    79  0.02729   0.0   7.07     0  ...  4.9671    2  242     17.8  34.7\n",
              "3   197  0.03237   0.0   2.18     0  ...  6.0622    3  222     18.7  33.4\n",
              "4   687  0.06905   0.0   2.18     0  ...  6.0622    3  222     18.7  36.2\n",
              "5   587  0.02985   0.0   2.18     0  ...  6.0622    3  222     18.7  28.7\n",
              "6   743  0.08829  12.5   7.87     0  ...  5.5605    5  311     15.2  22.9\n",
              "7   689  0.14455  12.5   7.87     0  ...  5.9505    5  311     15.2  27.1\n",
              "8   420  0.21124  12.5   7.87     0  ...  6.0821    5  311     15.2  16.5\n",
              "9   521  0.17004  12.5   7.87     0  ...  6.5921    5  311     15.2  18.9\n",
              "10  628  0.22489  12.5   7.87     0  ...  6.3467    5  311     15.2  15.0\n",
              "11  555  0.11747  12.5   7.87     0  ...  6.2267    5  311     15.2  18.9\n",
              "12  950  0.09378  12.5   7.87     0  ...  5.4509    5  311     15.2  21.7\n",
              "13  249  0.62976   0.0   8.14     0  ...  4.7075    4  307     21.0  20.4\n",
              "14  825  0.63796   0.0   8.14     0  ...  4.4619    4  307     21.0  18.2\n",
              "15  418  0.62739   0.0   8.14     0  ...  4.4986    4  307     21.0  19.9\n",
              "16  957  1.05393   0.0   8.14     0  ...  4.4986    4  307     21.0  23.1\n",
              "17  554  0.78420   0.0   8.14     0  ...  4.2579    4  307     21.0  17.5\n",
              "18  710  0.80271   0.0   8.14     0  ...  3.7965    4  307     21.0  20.2\n",
              "19  621  0.72580   0.0   8.14     0  ...  3.7965    4  307     21.0  18.2\n",
              "20   14  1.25179   0.0   8.14     0  ...  3.7979    4  307     21.0  13.6\n",
              "21  837  0.85204   0.0   8.14     0  ...  4.0123    4  307     21.0  19.6\n",
              "22  929  1.23247   0.0   8.14     0  ...  3.9769    4  307     21.0  15.2\n",
              "23  235  0.98843   0.0   8.14     0  ...  4.0952    4  307     21.0  14.5\n",
              "24  613  0.75026   0.0   8.14     0  ...  4.3996    4  307     21.0  15.6\n",
              "25  429  0.84054   0.0   8.14     0  ...  4.4546    4  307     21.0  13.9\n",
              "26  539  0.67191   0.0   8.14     0  ...  4.6820    4  307     21.0  16.6\n",
              "27  927  0.95577   0.0   8.14     0  ...  4.4534    4  307     21.0  14.8\n",
              "28  348  0.77299   0.0   8.14     0  ...  4.4547    4  307     21.0  18.4\n",
              "29   67  1.00245   0.0   8.14     0  ...  4.2390    4  307     21.0  21.0\n",
              "30  546  1.13081   0.0   8.14     0  ...  4.2330    4  307     21.0  12.7\n",
              "31  230  1.35472   0.0   8.14     0  ...  4.1750    4  307     21.0  14.5\n",
              "32  954  1.38799   0.0   8.14     0  ...  3.9900    4  307     21.0  13.2\n",
              "33  976  1.15172   0.0   8.14     0  ...  3.7872    4  307     21.0  13.1\n",
              "34  902  1.61282   0.0   8.14     0  ...  3.7598    4  307     21.0  13.5\n",
              "35  969  0.06417   0.0   5.96     0  ...  3.3603    5  279     19.2  18.9\n",
              "36  945  0.09744   0.0   5.96     0  ...     NaN    5  279     19.2  20.0\n",
              "37  426  0.08014   0.0   5.96     0  ...  3.9342    5  279     19.2  21.0\n",
              "38  942  0.17505   0.0   5.96     0  ...  3.8473    5  279     19.2  24.7\n",
              "39  513  0.02763  75.0   2.95     0  ...  5.4011    3  252     18.3  30.8\n",
              "40  262  0.03359  75.0   2.95     0  ...  5.4011    3  252     18.3  34.9\n",
              "41  520  0.12744   0.0   6.91     0  ...  5.7209    3  233     17.9  26.6\n",
              "42  982  0.14150   0.0   6.91     0  ...  5.7209    3  233     17.9  25.3\n",
              "43  606  0.15936   0.0   6.91     0  ...  5.7209    3  233     17.9  24.7\n",
              "44  180  0.12269   0.0   6.91     0  ...  5.7209    3  233     17.9  21.2\n",
              "45  924  0.17142   0.0   6.91     0  ...  5.1004    3  233     17.9  19.3\n",
              "46  921  0.18836   0.0   6.91     0  ...     NaN    3  233     17.9  20.0\n",
              "47  733  0.22927   0.0   6.91     0  ...  5.6894    3  233     17.9  16.6\n",
              "48  371  0.25387   0.0   6.91     0  ...  5.8700    3  233     17.9  14.4\n",
              "49  425  0.21977   0.0   6.91     0  ...     NaN    3  233     17.9  19.4\n",
              "\n",
              "[50 rows x 13 columns]"
            ]
          },
          "metadata": {},
          "execution_count": 37
        }
      ]
    },
    {
      "cell_type": "code",
      "source": [
        "missing=df['RM'].isna()\n",
        "missing_sum = sum(missing==True)\n",
        "missingness = missing_sum/516*100\n",
        "print (''+'Missingness is %.2f'%+missingness+\"%.\")"
      ],
      "metadata": {
        "colab": {
          "base_uri": "https://localhost:8080/"
        },
        "id": "xV1KCby_aKhk",
        "outputId": "aca950c5-862f-4818-b45f-878f2e3bd118"
      },
      "execution_count": 38,
      "outputs": [
        {
          "output_type": "stream",
          "name": "stdout",
          "text": [
            "Missingness is 5.23%.\n"
          ]
        }
      ]
    },
    {
      "cell_type": "markdown",
      "source": [
        "Note the way we have formatted the float variable missingness to display only to two \n",
        "decimal places. \n",
        "Note that the value of 516 come from the total number of observations in the dataset. To \n",
        "identify this value, use the df.shape property. We could grab this directly by changing the \n",
        "third line of code above to this:"
      ],
      "metadata": {
        "id": "f5rCA64jaSqK"
      }
    },
    {
      "cell_type": "code",
      "source": [
        "df.shape"
      ],
      "metadata": {
        "colab": {
          "base_uri": "https://localhost:8080/"
        },
        "id": "wJn1VS5MaTpu",
        "outputId": "3d73c039-eedb-48aa-ed27-8afc9385b2bb"
      },
      "execution_count": 39,
      "outputs": [
        {
          "output_type": "execute_result",
          "data": {
            "text/plain": [
              "(516, 13)"
            ]
          },
          "metadata": {},
          "execution_count": 39
        }
      ]
    },
    {
      "cell_type": "code",
      "source": [
        "missingness = missing_sum/df.shape[0]*100"
      ],
      "metadata": {
        "id": "AJA5HUQ2aYvg"
      },
      "execution_count": 40,
      "outputs": []
    },
    {
      "cell_type": "markdown",
      "source": [
        "These commands identify the number of missing values within the dataframe df, convert \n",
        "that to a proportion of the total values, and print the output as a percentage to two decimal \n",
        "places. \n",
        "For df you should obtain a value of around 5.23%, which is a low enough value to allow for us \n",
        "to “fix” the missingness. In a real project, especially when the dataset is large enough to \n",
        "make missing value identification by eye a difficult task, this process should be completed for \n",
        "every feature. A fast way to see which columns have missing data is to count the number of \n",
        "NaN cells across the whole dataframe by column:\n"
      ],
      "metadata": {
        "id": "CBSM7Kw3ajfe"
      }
    },
    {
      "cell_type": "code",
      "source": [
        "df.isna().sum()"
      ],
      "metadata": {
        "colab": {
          "base_uri": "https://localhost:8080/"
        },
        "id": "MvEBe5z0akJt",
        "outputId": "345e8047-ec75-4b96-ea6b-99382e66ba3e"
      },
      "execution_count": 41,
      "outputs": [
        {
          "output_type": "execute_result",
          "data": {
            "text/plain": [
              "CID         0\n",
              "CRIM        0\n",
              "ZN          0\n",
              "INDUS       0\n",
              "CHAS        0\n",
              "NOX         0\n",
              "RM         27\n",
              "AGE         0\n",
              "DIS        22\n",
              "RAD         0\n",
              "TAX         0\n",
              "PTRATIO     0\n",
              "MEDV        0\n",
              "dtype: int64"
            ]
          },
          "metadata": {},
          "execution_count": 41
        }
      ]
    },
    {
      "cell_type": "markdown",
      "source": [
        "However, for today’s task, you will notice that only one other feature (‘DIS’) contains \n",
        "missingness. Perform the process again for “DIS”. What percentage of values in this feature \n",
        "are missing?\n"
      ],
      "metadata": {
        "id": "HikaUrjqarSp"
      }
    },
    {
      "cell_type": "code",
      "source": [
        "missing=df['DIS'].isna()\n",
        "missing_sum = sum(missing==True)\n",
        "missingness = missing_sum/516*100\n",
        "print (''+'Missingness is %.2f'%+missingness+\"%.\")"
      ],
      "metadata": {
        "colab": {
          "base_uri": "https://localhost:8080/"
        },
        "id": "leVZycl0asCV",
        "outputId": "363b08d2-54be-4e61-d270-216edabc1c07"
      },
      "execution_count": 42,
      "outputs": [
        {
          "output_type": "stream",
          "name": "stdout",
          "text": [
            "Missingness is 4.26%.\n"
          ]
        }
      ]
    },
    {
      "cell_type": "markdown",
      "source": [
        "The next step is to diagnose the degree of missingness within the data. The best-case \n",
        "scenario is that the data is missing completely at random, where the worst case is that the \n",
        "data is missing not at random. To test for this, we can use Little’s MCAR test. \n",
        "To further explore missingness within the data, we can plot the missing data to provide a \n",
        "visualisation to help us identify where the missing values are (and also, confirm that it is only \n",
        "the two variables that contain missingness). We first need to import the seaborn library to \n",
        "give nicer formatting to the chart:"
      ],
      "metadata": {
        "id": "LnAJevPxa69Y"
      }
    },
    {
      "cell_type": "code",
      "source": [
        "#import seaborn\n",
        "import seaborn as sns"
      ],
      "metadata": {
        "id": "bYdYDbSia7nw"
      },
      "execution_count": 43,
      "outputs": []
    },
    {
      "cell_type": "code",
      "source": [
        "#import matplotlib\n",
        "import matplotlib.pyplot as plt\n"
      ],
      "metadata": {
        "id": "BO_x08CubIEp"
      },
      "execution_count": 44,
      "outputs": []
    },
    {
      "cell_type": "code",
      "source": [
        "#Then create the visualisation plot as follows:\n",
        "plt.figure(figsize=(10,6))\n",
        "sns.heatmap(df.isna().transpose(),\n",
        " cmap=\"YlGnBu\",\n",
        " cbar_kws={'label': 'Missing Data'})\n",
        "plt.show()"
      ],
      "metadata": {
        "colab": {
          "base_uri": "https://localhost:8080/",
          "height": 387
        },
        "id": "staKME8KbBDY",
        "outputId": "1d9850e6-fed3-4003-ce77-e7249657514f"
      },
      "execution_count": 45,
      "outputs": [
        {
          "output_type": "display_data",
          "data": {
            "image/png": "[encoded data removed]",
            "text/plain": [
              "<Figure size 720x432 with 2 Axes>"
            ]
          },
          "metadata": {
            "needs_background": "light"
          }
        }
      ]
    },
    {
      "cell_type": "markdown",
      "source": [
        "The plot that is produced will indicate the total level of missing data within the dataset, and \n",
        "the proportion of each individual feature that is missing. The next step is to begin attempting \n",
        "to diagnose the missingness, to identify whether we are dealing with data that is MCAR \n",
        "(Missing Completely At Random — see https://soprasteriaanalytics.se/2020/01/23/an\u0002easy-way-to-deal-with-missing-data-imputation-by-regression/). Unfortunately for us, \n",
        "there is no readily available version of Little’s MCAR test in Python. If you want to explore \n",
        "whether the missing values in our dataset are, in fact, MCAR and are happy to experiment \n",
        "with the R programming language, then you can use the mcar_test function in the naniar\n",
        "library using the following command.\n"
      ],
      "metadata": {
        "id": "aeAJxPiUbVpD"
      }
    },
    {
      "cell_type": "code",
      "source": [
        "# the follwoing is used to experiment with R programming - mcar_test(dataset)"
      ],
      "metadata": {
        "id": "jumwKEKsbWKn"
      },
      "execution_count": 46,
      "outputs": []
    },
    {
      "cell_type": "markdown",
      "source": [
        "Note, the above only works in R so don’t try it in Python. See \n",
        "https://www.rdocumentation.org/packages/naniar/versions/0.6.1."
      ],
      "metadata": {
        "id": "N1eFBL8Abj7Z"
      }
    },
    {
      "cell_type": "markdown",
      "source": [
        "Note, the above only works in R so don’t try it in Python. See \n",
        "https://www.rdocumentation.org/packages/naniar/versions/0.6.1."
      ],
      "metadata": {
        "id": "VVvjWh9qboiu"
      }
    },
    {
      "cell_type": "markdown",
      "source": [
        "The value produced for this data should indicate that this missingness is in fact MCAR. This \n",
        "means that we can use a variety of methods for replacing the missing values.\n",
        "Assuming you haven’t spent a happy couple of hours trying out R, it can be reported that if \n",
        "you had, you would have found that our data is MCAR. The volume of missing data is also \n",
        "relatively small so we will use a substitution (imputation) method to replace the missing \n",
        "values. First, we must decide on which measure of the data to perform the imputation: the \n",
        "mean, median, or the mode. Produce a histogram to view the distribution of values within \n",
        "df['RM']."
      ],
      "metadata": {
        "id": "8dZ6BmFdbwez"
      }
    },
    {
      "cell_type": "code",
      "source": [
        "df['RM']"
      ],
      "metadata": {
        "colab": {
          "base_uri": "https://localhost:8080/"
        },
        "id": "WPlWMRNAb2Km",
        "outputId": "3dcec35f-a809-4482-9a9f-aa91ee26cce6"
      },
      "execution_count": 47,
      "outputs": [
        {
          "output_type": "execute_result",
          "data": {
            "text/plain": [
              "0      6.575\n",
              "1      6.421\n",
              "2        NaN\n",
              "3      6.998\n",
              "4      7.147\n",
              "       ...  \n",
              "511    5.985\n",
              "512    5.985\n",
              "513    5.985\n",
              "514    5.985\n",
              "515    5.985\n",
              "Name: RM, Length: 516, dtype: float64"
            ]
          },
          "metadata": {},
          "execution_count": 47
        }
      ]
    },
    {
      "cell_type": "markdown",
      "source": [
        "What does this distribution tell you about the most appropriate measure of central \n",
        "tendency?"
      ],
      "metadata": {
        "id": "XTP7KNS3bzMd"
      }
    },
    {
      "cell_type": "markdown",
      "source": [
        "We will therefore use the mean as the substitute value of choice. Use the DataFrame.mean()\n",
        "function to try and calculate the mean value for “RM”. "
      ],
      "metadata": {
        "id": "YJwL8qwKbzsr"
      }
    },
    {
      "cell_type": "code",
      "source": [
        "df['RM'].mean()\n"
      ],
      "metadata": {
        "colab": {
          "base_uri": "https://localhost:8080/"
        },
        "id": "iGG024vtb5jr",
        "outputId": "711380f8-ced3-4911-d519-f9b95835a07d"
      },
      "execution_count": 48,
      "outputs": [
        {
          "output_type": "execute_result",
          "data": {
            "text/plain": [
              "6.284541922290399"
            ]
          },
          "metadata": {},
          "execution_count": 48
        }
      ]
    },
    {
      "cell_type": "markdown",
      "source": [
        "Now, to replace the missing values in the RM with the mean value for “RM”, use the \n",
        "following commands:"
      ],
      "metadata": {
        "id": "__LUQ29icbeK"
      }
    },
    {
      "cell_type": "code",
      "source": [
        "#import numpy\n",
        "import numpy as np\n"
      ],
      "metadata": {
        "id": "JKE9SpeUcjTP"
      },
      "execution_count": 49,
      "outputs": []
    },
    {
      "cell_type": "code",
      "source": [
        "mean = df['RM'].mean()\n",
        "df['RM'].replace(np.NAN,mean, inplace=True)"
      ],
      "metadata": {
        "id": "c9YZxfvJccAL"
      },
      "execution_count": 50,
      "outputs": []
    },
    {
      "cell_type": "markdown",
      "source": [
        ""
      ],
      "metadata": {
        "id": "juTdOFlrcqK4"
      }
    },
    {
      "cell_type": "markdown",
      "source": [
        "The first line calculates the mean of the column. Note, the default behaviour of \n",
        "DataFrame.mean() is to ignore null or empty values, so the calculation is not affected by the \n",
        "missing data (see the documentation at https://pandas.pydata.org/pandas\u0002docs/stable/reference/api/pandas.DataFrame.mean.html, paying attention to the second \n",
        "argument of the function)."
      ],
      "metadata": {
        "id": "zWg22eMYcqUW"
      }
    },
    {
      "cell_type": "markdown",
      "source": [
        "The second line uses the handy DataFrame.replace() function to replace all values in the RM \n",
        "column that are not-a-number with the mean we just calculated. The inplace=True tells the \n",
        "function to change the values in the dataframe. If we didn’t do that we would have had to \n",
        "copy the result of the function to a new location (which could be the same variable name) like \n",
        "this"
      ],
      "metadata": {
        "id": "hMygPzv7cvwz"
      }
    },
    {
      "cell_type": "code",
      "source": [
        "df['RM'] = df['RM'].replace(np.NAN,mean)\n"
      ],
      "metadata": {
        "id": "UO4rdlLGcxhc"
      },
      "execution_count": 51,
      "outputs": []
    },
    {
      "cell_type": "markdown",
      "source": [
        "Upon viewing the data again, you should notice that the previously missing values have been \n",
        "substitute"
      ],
      "metadata": {
        "id": "hNKtochadBkp"
      }
    },
    {
      "cell_type": "code",
      "source": [
        "df[:16]"
      ],
      "metadata": {
        "colab": {
          "base_uri": "https://localhost:8080/",
          "height": 551
        },
        "id": "szER5AbgdB8E",
        "outputId": "aa3871ac-7b0c-479c-9237-c5e3f7390b55"
      },
      "execution_count": 52,
      "outputs": [
        {
          "output_type": "execute_result",
          "data": {
            "text/html": [
              "\n",
              "  <div id=\"df-dc256614-cd99-426c-8bd7-bf343b5c2b12\">\n",
              "    <div class=\"colab-df-container\">\n",
              "      <div>\n",
              "<style scoped>\n",
              "    .dataframe tbody tr th:only-of-type {\n",
              "        vertical-align: middle;\n",
              "    }\n",
              "\n",
              "    .dataframe tbody tr th {\n",
              "        vertical-align: top;\n",
              "    }\n",
              "\n",
              "    .dataframe thead th {\n",
              "        text-align: right;\n",
              "    }\n",
              "</style>\n",
              "<table border=\"1\" class=\"dataframe\">\n",
              "  <thead>\n",
              "    <tr style=\"text-align: right;\">\n",
              "      <th></th>\n",
              "      <th>CID</th>\n",
              "      <th>CRIM</th>\n",
              "      <th>ZN</th>\n",
              "      <th>INDUS</th>\n",
              "      <th>CHAS</th>\n",
              "      <th>NOX</th>\n",
              "      <th>RM</th>\n",
              "      <th>AGE</th>\n",
              "      <th>DIS</th>\n",
              "      <th>RAD</th>\n",
              "      <th>TAX</th>\n",
              "      <th>PTRATIO</th>\n",
              "      <th>MEDV</th>\n",
              "    </tr>\n",
              "  </thead>\n",
              "  <tbody>\n",
              "    <tr>\n",
              "      <th>0</th>\n",
              "      <td>208</td>\n",
              "      <td>0.00632</td>\n",
              "      <td>18.0</td>\n",
              "      <td>2.31</td>\n",
              "      <td>0</td>\n",
              "      <td>0.538</td>\n",
              "      <td>6.575000</td>\n",
              "      <td>65.2</td>\n",
              "      <td>4.0900</td>\n",
              "      <td>1</td>\n",
              "      <td>296</td>\n",
              "      <td>15.3</td>\n",
              "      <td>24.0</td>\n",
              "    </tr>\n",
              "    <tr>\n",
              "      <th>1</th>\n",
              "      <td>778</td>\n",
              "      <td>0.02731</td>\n",
              "      <td>0.0</td>\n",
              "      <td>7.07</td>\n",
              "      <td>0</td>\n",
              "      <td>0.469</td>\n",
              "      <td>6.421000</td>\n",
              "      <td>78.9</td>\n",
              "      <td>4.9671</td>\n",
              "      <td>2</td>\n",
              "      <td>242</td>\n",
              "      <td>17.8</td>\n",
              "      <td>21.6</td>\n",
              "    </tr>\n",
              "    <tr>\n",
              "      <th>2</th>\n",
              "      <td>79</td>\n",
              "      <td>0.02729</td>\n",
              "      <td>0.0</td>\n",
              "      <td>7.07</td>\n",
              "      <td>0</td>\n",
              "      <td>0.469</td>\n",
              "      <td>6.284542</td>\n",
              "      <td>61.1</td>\n",
              "      <td>4.9671</td>\n",
              "      <td>2</td>\n",
              "      <td>242</td>\n",
              "      <td>17.8</td>\n",
              "      <td>34.7</td>\n",
              "    </tr>\n",
              "    <tr>\n",
              "      <th>3</th>\n",
              "      <td>197</td>\n",
              "      <td>0.03237</td>\n",
              "      <td>0.0</td>\n",
              "      <td>2.18</td>\n",
              "      <td>0</td>\n",
              "      <td>0.458</td>\n",
              "      <td>6.998000</td>\n",
              "      <td>45.8</td>\n",
              "      <td>6.0622</td>\n",
              "      <td>3</td>\n",
              "      <td>222</td>\n",
              "      <td>18.7</td>\n",
              "      <td>33.4</td>\n",
              "    </tr>\n",
              "    <tr>\n",
              "      <th>4</th>\n",
              "      <td>687</td>\n",
              "      <td>0.06905</td>\n",
              "      <td>0.0</td>\n",
              "      <td>2.18</td>\n",
              "      <td>0</td>\n",
              "      <td>0.458</td>\n",
              "      <td>7.147000</td>\n",
              "      <td>54.2</td>\n",
              "      <td>6.0622</td>\n",
              "      <td>3</td>\n",
              "      <td>222</td>\n",
              "      <td>18.7</td>\n",
              "      <td>36.2</td>\n",
              "    </tr>\n",
              "    <tr>\n",
              "      <th>5</th>\n",
              "      <td>587</td>\n",
              "      <td>0.02985</td>\n",
              "      <td>0.0</td>\n",
              "      <td>2.18</td>\n",
              "      <td>0</td>\n",
              "      <td>0.458</td>\n",
              "      <td>6.430000</td>\n",
              "      <td>58.7</td>\n",
              "      <td>6.0622</td>\n",
              "      <td>3</td>\n",
              "      <td>222</td>\n",
              "      <td>18.7</td>\n",
              "      <td>28.7</td>\n",
              "    </tr>\n",
              "    <tr>\n",
              "      <th>6</th>\n",
              "      <td>743</td>\n",
              "      <td>0.08829</td>\n",
              "      <td>12.5</td>\n",
              "      <td>7.87</td>\n",
              "      <td>0</td>\n",
              "      <td>0.524</td>\n",
              "      <td>6.012000</td>\n",
              "      <td>66.6</td>\n",
              "      <td>5.5605</td>\n",
              "      <td>5</td>\n",
              "      <td>311</td>\n",
              "      <td>15.2</td>\n",
              "      <td>22.9</td>\n",
              "    </tr>\n",
              "    <tr>\n",
              "      <th>7</th>\n",
              "      <td>689</td>\n",
              "      <td>0.14455</td>\n",
              "      <td>12.5</td>\n",
              "      <td>7.87</td>\n",
              "      <td>0</td>\n",
              "      <td>0.524</td>\n",
              "      <td>6.172000</td>\n",
              "      <td>96.1</td>\n",
              "      <td>5.9505</td>\n",
              "      <td>5</td>\n",
              "      <td>311</td>\n",
              "      <td>15.2</td>\n",
              "      <td>27.1</td>\n",
              "    </tr>\n",
              "    <tr>\n",
              "      <th>8</th>\n",
              "      <td>420</td>\n",
              "      <td>0.21124</td>\n",
              "      <td>12.5</td>\n",
              "      <td>7.87</td>\n",
              "      <td>0</td>\n",
              "      <td>0.524</td>\n",
              "      <td>5.631000</td>\n",
              "      <td>100.0</td>\n",
              "      <td>6.0821</td>\n",
              "      <td>5</td>\n",
              "      <td>311</td>\n",
              "      <td>15.2</td>\n",
              "      <td>16.5</td>\n",
              "    </tr>\n",
              "    <tr>\n",
              "      <th>9</th>\n",
              "      <td>521</td>\n",
              "      <td>0.17004</td>\n",
              "      <td>12.5</td>\n",
              "      <td>7.87</td>\n",
              "      <td>0</td>\n",
              "      <td>0.524</td>\n",
              "      <td>6.004000</td>\n",
              "      <td>85.9</td>\n",
              "      <td>6.5921</td>\n",
              "      <td>5</td>\n",
              "      <td>311</td>\n",
              "      <td>15.2</td>\n",
              "      <td>18.9</td>\n",
              "    </tr>\n",
              "    <tr>\n",
              "      <th>10</th>\n",
              "      <td>628</td>\n",
              "      <td>0.22489</td>\n",
              "      <td>12.5</td>\n",
              "      <td>7.87</td>\n",
              "      <td>0</td>\n",
              "      <td>0.524</td>\n",
              "      <td>6.284542</td>\n",
              "      <td>94.3</td>\n",
              "      <td>6.3467</td>\n",
              "      <td>5</td>\n",
              "      <td>311</td>\n",
              "      <td>15.2</td>\n",
              "      <td>15.0</td>\n",
              "    </tr>\n",
              "    <tr>\n",
              "      <th>11</th>\n",
              "      <td>555</td>\n",
              "      <td>0.11747</td>\n",
              "      <td>12.5</td>\n",
              "      <td>7.87</td>\n",
              "      <td>0</td>\n",
              "      <td>0.524</td>\n",
              "      <td>6.284542</td>\n",
              "      <td>82.9</td>\n",
              "      <td>6.2267</td>\n",
              "      <td>5</td>\n",
              "      <td>311</td>\n",
              "      <td>15.2</td>\n",
              "      <td>18.9</td>\n",
              "    </tr>\n",
              "    <tr>\n",
              "      <th>12</th>\n",
              "      <td>950</td>\n",
              "      <td>0.09378</td>\n",
              "      <td>12.5</td>\n",
              "      <td>7.87</td>\n",
              "      <td>0</td>\n",
              "      <td>0.524</td>\n",
              "      <td>5.889000</td>\n",
              "      <td>39.0</td>\n",
              "      <td>5.4509</td>\n",
              "      <td>5</td>\n",
              "      <td>311</td>\n",
              "      <td>15.2</td>\n",
              "      <td>21.7</td>\n",
              "    </tr>\n",
              "    <tr>\n",
              "      <th>13</th>\n",
              "      <td>249</td>\n",
              "      <td>0.62976</td>\n",
              "      <td>0.0</td>\n",
              "      <td>8.14</td>\n",
              "      <td>0</td>\n",
              "      <td>0.538</td>\n",
              "      <td>5.949000</td>\n",
              "      <td>61.8</td>\n",
              "      <td>4.7075</td>\n",
              "      <td>4</td>\n",
              "      <td>307</td>\n",
              "      <td>21.0</td>\n",
              "      <td>20.4</td>\n",
              "    </tr>\n",
              "    <tr>\n",
              "      <th>14</th>\n",
              "      <td>825</td>\n",
              "      <td>0.63796</td>\n",
              "      <td>0.0</td>\n",
              "      <td>8.14</td>\n",
              "      <td>0</td>\n",
              "      <td>0.538</td>\n",
              "      <td>6.096000</td>\n",
              "      <td>84.5</td>\n",
              "      <td>4.4619</td>\n",
              "      <td>4</td>\n",
              "      <td>307</td>\n",
              "      <td>21.0</td>\n",
              "      <td>18.2</td>\n",
              "    </tr>\n",
              "    <tr>\n",
              "      <th>15</th>\n",
              "      <td>418</td>\n",
              "      <td>0.62739</td>\n",
              "      <td>0.0</td>\n",
              "      <td>8.14</td>\n",
              "      <td>0</td>\n",
              "      <td>0.538</td>\n",
              "      <td>5.834000</td>\n",
              "      <td>56.5</td>\n",
              "      <td>4.4986</td>\n",
              "      <td>4</td>\n",
              "      <td>307</td>\n",
              "      <td>21.0</td>\n",
              "      <td>19.9</td>\n",
              "    </tr>\n",
              "  </tbody>\n",
              "</table>\n",
              "</div>\n",
              "      <button class=\"colab-df-convert\" onclick=\"convertToInteractive('df-dc256614-cd99-426c-8bd7-bf343b5c2b12')\"\n",
              "              title=\"Convert this dataframe to an interactive table.\"\n",
              "              style=\"display:none;\">\n",
              "        \n",
              "  <svg xmlns=\"http://www.w3.org/2000/svg\" height=\"24px\"viewBox=\"0 0 24 24\"\n",
              "       width=\"24px\">\n",
              "    <path d=\"M0 0h24v24H0V0z\" fill=\"none\"/>\n",
              "    <path d=\"M18.56 5.44l.94 2.06.94-2.06 2.06-.94-2.06-.94-.94-2.06-.94 2.06-2.06.94zm-11 1L8.5 8.5l.94-2.06 2.06-.94-2.06-.94L8.5 2.5l-.94 2.06-2.06.94zm10 10l.94 2.06.94-2.06 2.06-.94-2.06-.94-.94-2.06-.94 2.06-2.06.94z\"/><path d=\"M17.41 7.96l-1.37-1.37c-.4-.4-.92-.59-1.43-.59-.52 0-1.04.2-1.43.59L10.3 9.45l-7.72 7.72c-.78.78-.78 2.05 0 2.83L4 21.41c.39.39.9.59 1.41.59.51 0 1.02-.2 1.41-.59l7.78-7.78 2.81-2.81c.8-.78.8-2.07 0-2.86zM5.41 20L4 18.59l7.72-7.72 1.47 1.35L5.41 20z\"/>\n",
              "  </svg>\n",
              "      </button>\n",
              "      \n",
              "  <style>\n",
              "    .colab-df-container {\n",
              "      display:flex;\n",
              "      flex-wrap:wrap;\n",
              "      gap: 12px;\n",
              "    }\n",
              "\n",
              "    .colab-df-convert {\n",
              "      background-color: #E8F0FE;\n",
              "      border: none;\n",
              "      border-radius: 50%;\n",
              "      cursor: pointer;\n",
              "      display: none;\n",
              "      fill: #1967D2;\n",
              "      height: 32px;\n",
              "      padding: 0 0 0 0;\n",
              "      width: 32px;\n",
              "    }\n",
              "\n",
              "    .colab-df-convert:hover {\n",
              "      background-color: #E2EBFA;\n",
              "      box-shadow: 0px 1px 2px rgba(60, 64, 67, 0.3), 0px 1px 3px 1px rgba(60, 64, 67, 0.15);\n",
              "      fill: #174EA6;\n",
              "    }\n",
              "\n",
              "    [theme=dark] .colab-df-convert {\n",
              "      background-color: #3B4455;\n",
              "      fill: #D2E3FC;\n",
              "    }\n",
              "\n",
              "    [theme=dark] .colab-df-convert:hover {\n",
              "      background-color: #434B5C;\n",
              "      box-shadow: 0px 1px 3px 1px rgba(0, 0, 0, 0.15);\n",
              "      filter: drop-shadow(0px 1px 2px rgba(0, 0, 0, 0.3));\n",
              "      fill: #FFFFFF;\n",
              "    }\n",
              "  </style>\n",
              "\n",
              "      <script>\n",
              "        const buttonEl =\n",
              "          document.querySelector('#df-dc256614-cd99-426c-8bd7-bf343b5c2b12 button.colab-df-convert');\n",
              "        buttonEl.style.display =\n",
              "          google.colab.kernel.accessAllowed ? 'block' : 'none';\n",
              "\n",
              "        async function convertToInteractive(key) {\n",
              "          const element = document.querySelector('#df-dc256614-cd99-426c-8bd7-bf343b5c2b12');\n",
              "          const dataTable =\n",
              "            await google.colab.kernel.invokeFunction('convertToInteractive',\n",
              "                                                     [key], {});\n",
              "          if (!dataTable) return;\n",
              "\n",
              "          const docLinkHtml = 'Like what you see? Visit the ' +\n",
              "            '<a target=\"_blank\" href=https://colab.research.google.com/notebooks/data_table.ipynb>data table notebook</a>'\n",
              "            + ' to learn more about interactive tables.';\n",
              "          element.innerHTML = '';\n",
              "          dataTable['output_type'] = 'display_data';\n",
              "          await google.colab.output.renderOutput(dataTable, element);\n",
              "          const docLink = document.createElement('div');\n",
              "          docLink.innerHTML = docLinkHtml;\n",
              "          element.appendChild(docLink);\n",
              "        }\n",
              "      </script>\n",
              "    </div>\n",
              "  </div>\n",
              "  "
            ],
            "text/plain": [
              "    CID     CRIM    ZN  INDUS  CHAS  ...     DIS  RAD  TAX  PTRATIO  MEDV\n",
              "0   208  0.00632  18.0   2.31     0  ...  4.0900    1  296     15.3  24.0\n",
              "1   778  0.02731   0.0   7.07     0  ...  4.9671    2  242     17.8  21.6\n",
              "2    79  0.02729   0.0   7.07     0  ...  4.9671    2  242     17.8  34.7\n",
              "3   197  0.03237   0.0   2.18     0  ...  6.0622    3  222     18.7  33.4\n",
              "4   687  0.06905   0.0   2.18     0  ...  6.0622    3  222     18.7  36.2\n",
              "5   587  0.02985   0.0   2.18     0  ...  6.0622    3  222     18.7  28.7\n",
              "6   743  0.08829  12.5   7.87     0  ...  5.5605    5  311     15.2  22.9\n",
              "7   689  0.14455  12.5   7.87     0  ...  5.9505    5  311     15.2  27.1\n",
              "8   420  0.21124  12.5   7.87     0  ...  6.0821    5  311     15.2  16.5\n",
              "9   521  0.17004  12.5   7.87     0  ...  6.5921    5  311     15.2  18.9\n",
              "10  628  0.22489  12.5   7.87     0  ...  6.3467    5  311     15.2  15.0\n",
              "11  555  0.11747  12.5   7.87     0  ...  6.2267    5  311     15.2  18.9\n",
              "12  950  0.09378  12.5   7.87     0  ...  5.4509    5  311     15.2  21.7\n",
              "13  249  0.62976   0.0   8.14     0  ...  4.7075    4  307     21.0  20.4\n",
              "14  825  0.63796   0.0   8.14     0  ...  4.4619    4  307     21.0  18.2\n",
              "15  418  0.62739   0.0   8.14     0  ...  4.4986    4  307     21.0  19.9\n",
              "\n",
              "[16 rows x 13 columns]"
            ]
          },
          "metadata": {},
          "execution_count": 52
        }
      ]
    },
    {
      "cell_type": "markdown",
      "source": [
        "Also re-run the cell that prints a graph of the missing data. "
      ],
      "metadata": {
        "id": "A4ZaG_nrdHdg"
      }
    },
    {
      "cell_type": "code",
      "source": [
        "#Then create the visualisation plot as follows:\n",
        "plt.figure(figsize=(10,6))\n",
        "sns.heatmap(df.isna().transpose(),\n",
        " cmap=\"YlGnBu\",\n",
        " cbar_kws={'label': 'Missing Data'})\n",
        "plt.show()"
      ],
      "metadata": {
        "colab": {
          "base_uri": "https://localhost:8080/",
          "height": 387
        },
        "id": "mZlq11w3dIJA",
        "outputId": "54da95ac-5b3f-4963-9d6c-3970b6daac0f"
      },
      "execution_count": 53,
      "outputs": [
        {
          "output_type": "display_data",
          "data": {
            "image/png": "[encoded data removed]",
            "text/plain": [
              "<Figure size 720x432 with 2 Axes>"
            ]
          },
          "metadata": {
            "needs_background": "light"
          }
        }
      ]
    },
    {
      "cell_type": "markdown",
      "source": [
        "Now, repeat the process for the “DIS” feature, beginning with plotting a histogram and \n",
        "selecting a suitable substitute value to be used based upon the distribution."
      ],
      "metadata": {
        "id": "YrR2bpb4dOOY"
      }
    },
    {
      "cell_type": "code",
      "source": [
        "missing=df['DIS'].isna()\n",
        "missing_sum = sum(missing==True)\n",
        "missingness = missing_sum/516*100\n",
        "print (''+'Missingness is %.2f'%+missingness+\"%.\")"
      ],
      "metadata": {
        "colab": {
          "base_uri": "https://localhost:8080/"
        },
        "id": "Xx7kZgT-dVmh",
        "outputId": "b3cf506d-011d-4632-b06a-58132086c2e1"
      },
      "execution_count": 54,
      "outputs": [
        {
          "output_type": "stream",
          "name": "stdout",
          "text": [
            "Missingness is 4.26%.\n"
          ]
        }
      ]
    },
    {
      "cell_type": "code",
      "source": [
        "df['DIS']"
      ],
      "metadata": {
        "colab": {
          "base_uri": "https://localhost:8080/"
        },
        "id": "pal4Sw8KddOb",
        "outputId": "c8b744c8-7b69-4618-ba9e-da72bc7a94ce"
      },
      "execution_count": 55,
      "outputs": [
        {
          "output_type": "execute_result",
          "data": {
            "text/plain": [
              "0      4.0900\n",
              "1      4.9671\n",
              "2      4.9671\n",
              "3      6.0622\n",
              "4      6.0622\n",
              "        ...  \n",
              "511    4.8122\n",
              "512    4.8122\n",
              "513    4.8122\n",
              "514    4.8122\n",
              "515    4.8122\n",
              "Name: DIS, Length: 516, dtype: float64"
            ]
          },
          "metadata": {},
          "execution_count": 55
        }
      ]
    },
    {
      "cell_type": "code",
      "source": [
        "df['RM'].mean()"
      ],
      "metadata": {
        "colab": {
          "base_uri": "https://localhost:8080/"
        },
        "id": "nu2A7pUkdhif",
        "outputId": "d0234ec0-6fd7-4616-9784-d43b141d75ac"
      },
      "execution_count": 56,
      "outputs": [
        {
          "output_type": "execute_result",
          "data": {
            "text/plain": [
              "6.284541922290398"
            ]
          },
          "metadata": {},
          "execution_count": 56
        }
      ]
    },
    {
      "cell_type": "code",
      "source": [
        "mean = df['DIS'].mean()\n",
        "df['DIS'].replace(np.NAN,mean, inplace=True)"
      ],
      "metadata": {
        "id": "Out0_HS_dkb_"
      },
      "execution_count": 57,
      "outputs": []
    },
    {
      "cell_type": "code",
      "source": [
        "df['DIS'] = df['DIS'].replace(np.NAN,mean)"
      ],
      "metadata": {
        "id": "h0BEk1jPdqRm"
      },
      "execution_count": 58,
      "outputs": []
    },
    {
      "cell_type": "code",
      "source": [
        "#Then create the visualisation plot as follows:\n",
        "plt.figure(figsize=(10,6))\n",
        "sns.heatmap(df.isna().transpose(),\n",
        " cmap=\"YlGnBu\",\n",
        " cbar_kws={'label': 'Missing Data'})\n",
        "plt.show()"
      ],
      "metadata": {
        "colab": {
          "base_uri": "https://localhost:8080/",
          "height": 387
        },
        "id": "TQKOfDSPdye1",
        "outputId": "c8256124-c51f-4983-9def-6546e9bc0fb3"
      },
      "execution_count": 59,
      "outputs": [
        {
          "output_type": "display_data",
          "data": {
            "image/png": "[encoded data removed]",
            "text/plain": [
              "<Figure size 720x432 with 2 Axes>"
            ]
          },
          "metadata": {
            "needs_background": "light"
          }
        }
      ]
    },
    {
      "cell_type": "markdown",
      "source": [
        "We know that due to the geography of Boston and the surrounding area, it is impossible for \n",
        "two zones to possess exactly the same attributes. Therefore, any duplicate entries in the \n",
        "dataset must be erroneous, and should be removed. We can check whether there are any \n",
        "duplicate rows, thus"
      ],
      "metadata": {
        "id": "DPjJUwVcd5AB"
      }
    },
    {
      "cell_type": "code",
      "source": [
        "df[df.duplicated()]"
      ],
      "metadata": {
        "colab": {
          "base_uri": "https://localhost:8080/",
          "height": 49
        },
        "id": "hSU0nJ0yd5at",
        "outputId": "df3b4433-64dd-4ab1-ea11-93d22c9eb802"
      },
      "execution_count": 61,
      "outputs": [
        {
          "output_type": "execute_result",
          "data": {
            "text/html": [
              "\n",
              "  <div id=\"df-5015caa5-3f48-4980-8a45-55ee8bbec386\">\n",
              "    <div class=\"colab-df-container\">\n",
              "      <div>\n",
              "<style scoped>\n",
              "    .dataframe tbody tr th:only-of-type {\n",
              "        vertical-align: middle;\n",
              "    }\n",
              "\n",
              "    .dataframe tbody tr th {\n",
              "        vertical-align: top;\n",
              "    }\n",
              "\n",
              "    .dataframe thead th {\n",
              "        text-align: right;\n",
              "    }\n",
              "</style>\n",
              "<table border=\"1\" class=\"dataframe\">\n",
              "  <thead>\n",
              "    <tr style=\"text-align: right;\">\n",
              "      <th></th>\n",
              "      <th>CID</th>\n",
              "      <th>CRIM</th>\n",
              "      <th>ZN</th>\n",
              "      <th>INDUS</th>\n",
              "      <th>CHAS</th>\n",
              "      <th>NOX</th>\n",
              "      <th>RM</th>\n",
              "      <th>AGE</th>\n",
              "      <th>DIS</th>\n",
              "      <th>RAD</th>\n",
              "      <th>TAX</th>\n",
              "      <th>PTRATIO</th>\n",
              "      <th>MEDV</th>\n",
              "    </tr>\n",
              "  </thead>\n",
              "  <tbody>\n",
              "  </tbody>\n",
              "</table>\n",
              "</div>\n",
              "      <button class=\"colab-df-convert\" onclick=\"convertToInteractive('df-5015caa5-3f48-4980-8a45-55ee8bbec386')\"\n",
              "              title=\"Convert this dataframe to an interactive table.\"\n",
              "              style=\"display:none;\">\n",
              "        \n",
              "  <svg xmlns=\"http://www.w3.org/2000/svg\" height=\"24px\"viewBox=\"0 0 24 24\"\n",
              "       width=\"24px\">\n",
              "    <path d=\"M0 0h24v24H0V0z\" fill=\"none\"/>\n",
              "    <path d=\"M18.56 5.44l.94 2.06.94-2.06 2.06-.94-2.06-.94-.94-2.06-.94 2.06-2.06.94zm-11 1L8.5 8.5l.94-2.06 2.06-.94-2.06-.94L8.5 2.5l-.94 2.06-2.06.94zm10 10l.94 2.06.94-2.06 2.06-.94-2.06-.94-.94-2.06-.94 2.06-2.06.94z\"/><path d=\"M17.41 7.96l-1.37-1.37c-.4-.4-.92-.59-1.43-.59-.52 0-1.04.2-1.43.59L10.3 9.45l-7.72 7.72c-.78.78-.78 2.05 0 2.83L4 21.41c.39.39.9.59 1.41.59.51 0 1.02-.2 1.41-.59l7.78-7.78 2.81-2.81c.8-.78.8-2.07 0-2.86zM5.41 20L4 18.59l7.72-7.72 1.47 1.35L5.41 20z\"/>\n",
              "  </svg>\n",
              "      </button>\n",
              "      \n",
              "  <style>\n",
              "    .colab-df-container {\n",
              "      display:flex;\n",
              "      flex-wrap:wrap;\n",
              "      gap: 12px;\n",
              "    }\n",
              "\n",
              "    .colab-df-convert {\n",
              "      background-color: #E8F0FE;\n",
              "      border: none;\n",
              "      border-radius: 50%;\n",
              "      cursor: pointer;\n",
              "      display: none;\n",
              "      fill: #1967D2;\n",
              "      height: 32px;\n",
              "      padding: 0 0 0 0;\n",
              "      width: 32px;\n",
              "    }\n",
              "\n",
              "    .colab-df-convert:hover {\n",
              "      background-color: #E2EBFA;\n",
              "      box-shadow: 0px 1px 2px rgba(60, 64, 67, 0.3), 0px 1px 3px 1px rgba(60, 64, 67, 0.15);\n",
              "      fill: #174EA6;\n",
              "    }\n",
              "\n",
              "    [theme=dark] .colab-df-convert {\n",
              "      background-color: #3B4455;\n",
              "      fill: #D2E3FC;\n",
              "    }\n",
              "\n",
              "    [theme=dark] .colab-df-convert:hover {\n",
              "      background-color: #434B5C;\n",
              "      box-shadow: 0px 1px 3px 1px rgba(0, 0, 0, 0.15);\n",
              "      filter: drop-shadow(0px 1px 2px rgba(0, 0, 0, 0.3));\n",
              "      fill: #FFFFFF;\n",
              "    }\n",
              "  </style>\n",
              "\n",
              "      <script>\n",
              "        const buttonEl =\n",
              "          document.querySelector('#df-5015caa5-3f48-4980-8a45-55ee8bbec386 button.colab-df-convert');\n",
              "        buttonEl.style.display =\n",
              "          google.colab.kernel.accessAllowed ? 'block' : 'none';\n",
              "\n",
              "        async function convertToInteractive(key) {\n",
              "          const element = document.querySelector('#df-5015caa5-3f48-4980-8a45-55ee8bbec386');\n",
              "          const dataTable =\n",
              "            await google.colab.kernel.invokeFunction('convertToInteractive',\n",
              "                                                     [key], {});\n",
              "          if (!dataTable) return;\n",
              "\n",
              "          const docLinkHtml = 'Like what you see? Visit the ' +\n",
              "            '<a target=\"_blank\" href=https://colab.research.google.com/notebooks/data_table.ipynb>data table notebook</a>'\n",
              "            + ' to learn more about interactive tables.';\n",
              "          element.innerHTML = '';\n",
              "          dataTable['output_type'] = 'display_data';\n",
              "          await google.colab.output.renderOutput(dataTable, element);\n",
              "          const docLink = document.createElement('div');\n",
              "          docLink.innerHTML = docLinkHtml;\n",
              "          element.appendChild(docLink);\n",
              "        }\n",
              "      </script>\n",
              "    </div>\n",
              "  </div>\n",
              "  "
            ],
            "text/plain": [
              "Empty DataFrame\n",
              "Columns: [CID, CRIM, ZN, INDUS, CHAS, NOX, RM, AGE, DIS, RAD, TAX, PTRATIO, MEDV]\n",
              "Index: []"
            ]
          },
          "metadata": {},
          "execution_count": 61
        }
      ]
    },
    {
      "cell_type": "markdown",
      "source": [
        "In case there are any duplicate rows we can remove them thus:"
      ],
      "metadata": {
        "id": "2sIwFNwxePtB"
      }
    },
    {
      "cell_type": "code",
      "source": [
        "df.drop_duplicates(keep=False, inplace=False)"
      ],
      "metadata": {
        "colab": {
          "base_uri": "https://localhost:8080/",
          "height": 424
        },
        "id": "2fq1pknPeQXH",
        "outputId": "443d6325-4f72-4248-afd6-6a522d88593f"
      },
      "execution_count": 62,
      "outputs": [
        {
          "output_type": "execute_result",
          "data": {
            "text/html": [
              "\n",
              "  <div id=\"df-eefad244-ea00-418b-b9e9-a258aa5aabef\">\n",
              "    <div class=\"colab-df-container\">\n",
              "      <div>\n",
              "<style scoped>\n",
              "    .dataframe tbody tr th:only-of-type {\n",
              "        vertical-align: middle;\n",
              "    }\n",
              "\n",
              "    .dataframe tbody tr th {\n",
              "        vertical-align: top;\n",
              "    }\n",
              "\n",
              "    .dataframe thead th {\n",
              "        text-align: right;\n",
              "    }\n",
              "</style>\n",
              "<table border=\"1\" class=\"dataframe\">\n",
              "  <thead>\n",
              "    <tr style=\"text-align: right;\">\n",
              "      <th></th>\n",
              "      <th>CID</th>\n",
              "      <th>CRIM</th>\n",
              "      <th>ZN</th>\n",
              "      <th>INDUS</th>\n",
              "      <th>CHAS</th>\n",
              "      <th>NOX</th>\n",
              "      <th>RM</th>\n",
              "      <th>AGE</th>\n",
              "      <th>DIS</th>\n",
              "      <th>RAD</th>\n",
              "      <th>TAX</th>\n",
              "      <th>PTRATIO</th>\n",
              "      <th>MEDV</th>\n",
              "    </tr>\n",
              "  </thead>\n",
              "  <tbody>\n",
              "    <tr>\n",
              "      <th>0</th>\n",
              "      <td>208</td>\n",
              "      <td>0.00632</td>\n",
              "      <td>18.0</td>\n",
              "      <td>2.31</td>\n",
              "      <td>0</td>\n",
              "      <td>0.538</td>\n",
              "      <td>6.575000</td>\n",
              "      <td>65.2</td>\n",
              "      <td>4.0900</td>\n",
              "      <td>1</td>\n",
              "      <td>296</td>\n",
              "      <td>15.3</td>\n",
              "      <td>24.0</td>\n",
              "    </tr>\n",
              "    <tr>\n",
              "      <th>1</th>\n",
              "      <td>778</td>\n",
              "      <td>0.02731</td>\n",
              "      <td>0.0</td>\n",
              "      <td>7.07</td>\n",
              "      <td>0</td>\n",
              "      <td>0.469</td>\n",
              "      <td>6.421000</td>\n",
              "      <td>78.9</td>\n",
              "      <td>4.9671</td>\n",
              "      <td>2</td>\n",
              "      <td>242</td>\n",
              "      <td>17.8</td>\n",
              "      <td>21.6</td>\n",
              "    </tr>\n",
              "    <tr>\n",
              "      <th>2</th>\n",
              "      <td>79</td>\n",
              "      <td>0.02729</td>\n",
              "      <td>0.0</td>\n",
              "      <td>7.07</td>\n",
              "      <td>0</td>\n",
              "      <td>0.469</td>\n",
              "      <td>6.284542</td>\n",
              "      <td>61.1</td>\n",
              "      <td>4.9671</td>\n",
              "      <td>2</td>\n",
              "      <td>242</td>\n",
              "      <td>17.8</td>\n",
              "      <td>34.7</td>\n",
              "    </tr>\n",
              "    <tr>\n",
              "      <th>3</th>\n",
              "      <td>197</td>\n",
              "      <td>0.03237</td>\n",
              "      <td>0.0</td>\n",
              "      <td>2.18</td>\n",
              "      <td>0</td>\n",
              "      <td>0.458</td>\n",
              "      <td>6.998000</td>\n",
              "      <td>45.8</td>\n",
              "      <td>6.0622</td>\n",
              "      <td>3</td>\n",
              "      <td>222</td>\n",
              "      <td>18.7</td>\n",
              "      <td>33.4</td>\n",
              "    </tr>\n",
              "    <tr>\n",
              "      <th>4</th>\n",
              "      <td>687</td>\n",
              "      <td>0.06905</td>\n",
              "      <td>0.0</td>\n",
              "      <td>2.18</td>\n",
              "      <td>0</td>\n",
              "      <td>0.458</td>\n",
              "      <td>7.147000</td>\n",
              "      <td>54.2</td>\n",
              "      <td>6.0622</td>\n",
              "      <td>3</td>\n",
              "      <td>222</td>\n",
              "      <td>18.7</td>\n",
              "      <td>36.2</td>\n",
              "    </tr>\n",
              "    <tr>\n",
              "      <th>...</th>\n",
              "      <td>...</td>\n",
              "      <td>...</td>\n",
              "      <td>...</td>\n",
              "      <td>...</td>\n",
              "      <td>...</td>\n",
              "      <td>...</td>\n",
              "      <td>...</td>\n",
              "      <td>...</td>\n",
              "      <td>...</td>\n",
              "      <td>...</td>\n",
              "      <td>...</td>\n",
              "      <td>...</td>\n",
              "      <td>...</td>\n",
              "    </tr>\n",
              "    <tr>\n",
              "      <th>511</th>\n",
              "      <td>125</td>\n",
              "      <td>0.05497</td>\n",
              "      <td>0.0</td>\n",
              "      <td>5.19</td>\n",
              "      <td>0</td>\n",
              "      <td>0.515</td>\n",
              "      <td>5.985000</td>\n",
              "      <td>45.4</td>\n",
              "      <td>4.8122</td>\n",
              "      <td>5</td>\n",
              "      <td>224</td>\n",
              "      <td>20.2</td>\n",
              "      <td>19.0</td>\n",
              "    </tr>\n",
              "    <tr>\n",
              "      <th>512</th>\n",
              "      <td>987</td>\n",
              "      <td>0.05497</td>\n",
              "      <td>0.0</td>\n",
              "      <td>5.19</td>\n",
              "      <td>0</td>\n",
              "      <td>0.515</td>\n",
              "      <td>5.985000</td>\n",
              "      <td>45.4</td>\n",
              "      <td>4.8122</td>\n",
              "      <td>5</td>\n",
              "      <td>224</td>\n",
              "      <td>20.2</td>\n",
              "      <td>19.0</td>\n",
              "    </tr>\n",
              "    <tr>\n",
              "      <th>513</th>\n",
              "      <td>865</td>\n",
              "      <td>0.05497</td>\n",
              "      <td>0.0</td>\n",
              "      <td>5.19</td>\n",
              "      <td>0</td>\n",
              "      <td>0.515</td>\n",
              "      <td>5.985000</td>\n",
              "      <td>45.4</td>\n",
              "      <td>4.8122</td>\n",
              "      <td>5</td>\n",
              "      <td>224</td>\n",
              "      <td>20.2</td>\n",
              "      <td>19.0</td>\n",
              "    </tr>\n",
              "    <tr>\n",
              "      <th>514</th>\n",
              "      <td>632</td>\n",
              "      <td>0.05497</td>\n",
              "      <td>0.0</td>\n",
              "      <td>5.19</td>\n",
              "      <td>0</td>\n",
              "      <td>0.515</td>\n",
              "      <td>5.985000</td>\n",
              "      <td>45.4</td>\n",
              "      <td>4.8122</td>\n",
              "      <td>5</td>\n",
              "      <td>224</td>\n",
              "      <td>20.2</td>\n",
              "      <td>19.0</td>\n",
              "    </tr>\n",
              "    <tr>\n",
              "      <th>515</th>\n",
              "      <td>285</td>\n",
              "      <td>0.05497</td>\n",
              "      <td>0.0</td>\n",
              "      <td>5.19</td>\n",
              "      <td>0</td>\n",
              "      <td>0.515</td>\n",
              "      <td>5.985000</td>\n",
              "      <td>45.4</td>\n",
              "      <td>4.8122</td>\n",
              "      <td>5</td>\n",
              "      <td>224</td>\n",
              "      <td>20.2</td>\n",
              "      <td>19.0</td>\n",
              "    </tr>\n",
              "  </tbody>\n",
              "</table>\n",
              "<p>516 rows × 13 columns</p>\n",
              "</div>\n",
              "      <button class=\"colab-df-convert\" onclick=\"convertToInteractive('df-eefad244-ea00-418b-b9e9-a258aa5aabef')\"\n",
              "              title=\"Convert this dataframe to an interactive table.\"\n",
              "              style=\"display:none;\">\n",
              "        \n",
              "  <svg xmlns=\"http://www.w3.org/2000/svg\" height=\"24px\"viewBox=\"0 0 24 24\"\n",
              "       width=\"24px\">\n",
              "    <path d=\"M0 0h24v24H0V0z\" fill=\"none\"/>\n",
              "    <path d=\"M18.56 5.44l.94 2.06.94-2.06 2.06-.94-2.06-.94-.94-2.06-.94 2.06-2.06.94zm-11 1L8.5 8.5l.94-2.06 2.06-.94-2.06-.94L8.5 2.5l-.94 2.06-2.06.94zm10 10l.94 2.06.94-2.06 2.06-.94-2.06-.94-.94-2.06-.94 2.06-2.06.94z\"/><path d=\"M17.41 7.96l-1.37-1.37c-.4-.4-.92-.59-1.43-.59-.52 0-1.04.2-1.43.59L10.3 9.45l-7.72 7.72c-.78.78-.78 2.05 0 2.83L4 21.41c.39.39.9.59 1.41.59.51 0 1.02-.2 1.41-.59l7.78-7.78 2.81-2.81c.8-.78.8-2.07 0-2.86zM5.41 20L4 18.59l7.72-7.72 1.47 1.35L5.41 20z\"/>\n",
              "  </svg>\n",
              "      </button>\n",
              "      \n",
              "  <style>\n",
              "    .colab-df-container {\n",
              "      display:flex;\n",
              "      flex-wrap:wrap;\n",
              "      gap: 12px;\n",
              "    }\n",
              "\n",
              "    .colab-df-convert {\n",
              "      background-color: #E8F0FE;\n",
              "      border: none;\n",
              "      border-radius: 50%;\n",
              "      cursor: pointer;\n",
              "      display: none;\n",
              "      fill: #1967D2;\n",
              "      height: 32px;\n",
              "      padding: 0 0 0 0;\n",
              "      width: 32px;\n",
              "    }\n",
              "\n",
              "    .colab-df-convert:hover {\n",
              "      background-color: #E2EBFA;\n",
              "      box-shadow: 0px 1px 2px rgba(60, 64, 67, 0.3), 0px 1px 3px 1px rgba(60, 64, 67, 0.15);\n",
              "      fill: #174EA6;\n",
              "    }\n",
              "\n",
              "    [theme=dark] .colab-df-convert {\n",
              "      background-color: #3B4455;\n",
              "      fill: #D2E3FC;\n",
              "    }\n",
              "\n",
              "    [theme=dark] .colab-df-convert:hover {\n",
              "      background-color: #434B5C;\n",
              "      box-shadow: 0px 1px 3px 1px rgba(0, 0, 0, 0.15);\n",
              "      filter: drop-shadow(0px 1px 2px rgba(0, 0, 0, 0.3));\n",
              "      fill: #FFFFFF;\n",
              "    }\n",
              "  </style>\n",
              "\n",
              "      <script>\n",
              "        const buttonEl =\n",
              "          document.querySelector('#df-eefad244-ea00-418b-b9e9-a258aa5aabef button.colab-df-convert');\n",
              "        buttonEl.style.display =\n",
              "          google.colab.kernel.accessAllowed ? 'block' : 'none';\n",
              "\n",
              "        async function convertToInteractive(key) {\n",
              "          const element = document.querySelector('#df-eefad244-ea00-418b-b9e9-a258aa5aabef');\n",
              "          const dataTable =\n",
              "            await google.colab.kernel.invokeFunction('convertToInteractive',\n",
              "                                                     [key], {});\n",
              "          if (!dataTable) return;\n",
              "\n",
              "          const docLinkHtml = 'Like what you see? Visit the ' +\n",
              "            '<a target=\"_blank\" href=https://colab.research.google.com/notebooks/data_table.ipynb>data table notebook</a>'\n",
              "            + ' to learn more about interactive tables.';\n",
              "          element.innerHTML = '';\n",
              "          dataTable['output_type'] = 'display_data';\n",
              "          await google.colab.output.renderOutput(dataTable, element);\n",
              "          const docLink = document.createElement('div');\n",
              "          docLink.innerHTML = docLinkHtml;\n",
              "          element.appendChild(docLink);\n",
              "        }\n",
              "      </script>\n",
              "    </div>\n",
              "  </div>\n",
              "  "
            ],
            "text/plain": [
              "     CID     CRIM    ZN  INDUS  CHAS  ...     DIS  RAD  TAX  PTRATIO  MEDV\n",
              "0    208  0.00632  18.0   2.31     0  ...  4.0900    1  296     15.3  24.0\n",
              "1    778  0.02731   0.0   7.07     0  ...  4.9671    2  242     17.8  21.6\n",
              "2     79  0.02729   0.0   7.07     0  ...  4.9671    2  242     17.8  34.7\n",
              "3    197  0.03237   0.0   2.18     0  ...  6.0622    3  222     18.7  33.4\n",
              "4    687  0.06905   0.0   2.18     0  ...  6.0622    3  222     18.7  36.2\n",
              "..   ...      ...   ...    ...   ...  ...     ...  ...  ...      ...   ...\n",
              "511  125  0.05497   0.0   5.19     0  ...  4.8122    5  224     20.2  19.0\n",
              "512  987  0.05497   0.0   5.19     0  ...  4.8122    5  224     20.2  19.0\n",
              "513  865  0.05497   0.0   5.19     0  ...  4.8122    5  224     20.2  19.0\n",
              "514  632  0.05497   0.0   5.19     0  ...  4.8122    5  224     20.2  19.0\n",
              "515  285  0.05497   0.0   5.19     0  ...  4.8122    5  224     20.2  19.0\n",
              "\n",
              "[516 rows x 13 columns]"
            ]
          },
          "metadata": {},
          "execution_count": 62
        }
      ]
    },
    {
      "cell_type": "markdown",
      "source": [
        "See https://www.statology.org/pandas-drop-duplicates"
      ],
      "metadata": {
        "id": "J53PHQneeThp"
      }
    },
    {
      "cell_type": "markdown",
      "source": [
        "We will move on to the process of data preparation. \n",
        "Data Preparation\n",
        "The first step that we will take is to remove any trivial features. A trivial, or redundant, \n",
        "features is, and one that will add no value to the analysis, and is therefore unfavourable to \n",
        "the signal-to-noise ratio. An example of this is unnecessary identifiers. In this dataset, the feature “CID” is an identifier used by the Boston City Council to allocate zones, but as the \n",
        "values are arbitrary, the inclusion of this feature into a statistical model would actually have \n",
        "a detrimental effect on the predictive capacity of the model, as it would likely be interpreted \n",
        "as a feature of continuous numerical data. As CID is the first feature within the dataset, to \n",
        "remove the feature, use the following command\n"
      ],
      "metadata": {
        "id": "I-lOG7VJeUaP"
      }
    },
    {
      "cell_type": "code",
      "source": [
        "df=df.iloc[:, 1:]"
      ],
      "metadata": {
        "id": "AYKiooZPeYwA"
      },
      "execution_count": 63,
      "outputs": []
    },
    {
      "cell_type": "markdown",
      "source": [
        "The next stage of the preparation process is to remove any observations that are irrelevant \n",
        "to the investigation. As was stated in the research question, this investigation is only \n",
        "interested in property zones which are not bounded to the Charles River, and therefore, and \n",
        "data pertaining to zones that are bounded to the river should be removed from the dataset. \n",
        "The vicinity to the river is shown by the feature “CHAS”, a Boolean feature which takes the \n",
        "value of 1 is the zone bounds the river, and a value of 0 if not. "
      ],
      "metadata": {
        "id": "TFgyG3HvenAl"
      }
    },
    {
      "cell_type": "markdown",
      "source": [
        "To filter the data so that only the observations with a “0” value for “CHAS” are included, use \n",
        "the following command:"
      ],
      "metadata": {
        "id": "Dbvc7XX9ewLC"
      }
    },
    {
      "cell_type": "code",
      "source": [
        "#df=df[(df.CHAS == 0)"
      ],
      "metadata": {
        "id": "EZnyxntDewyR"
      },
      "execution_count": 67,
      "outputs": []
    },
    {
      "cell_type": "markdown",
      "source": [
        "We can on more than one condition, so for example, if you wished to filter the dataset for \n",
        "residential zones not bounded to the Charles River and with a tax code of 311, the following \n",
        "could be used:"
      ],
      "metadata": {
        "id": "SMoIAYhYfD58"
      }
    },
    {
      "cell_type": "code",
      "source": [
        "df=df[(df.CHAS == 0) & (df.TAX == 311)]\n"
      ],
      "metadata": {
        "id": "zwj1VpnLfFil"
      },
      "execution_count": 66,
      "outputs": []
    },
    {
      "cell_type": "markdown",
      "source": [
        "Next, we will recode a feature into a format that is easier to manage. Instead of using the \n",
        "“NOX” feature, which records the levels of nitrogen oxides in the atmosphere, we will recode \n",
        "this into a Boolean feature which indicates whether a zone is classed as having a high level of \n",
        "pollution, with high pollution levels being given as a concentration of over 0.7 parts per 10 \n",
        "million. We will call this feature “POL”. To create this feature and add it to the existing \n",
        "dataset, use the following command:\n"
      ],
      "metadata": {
        "id": "ykClA9WrfO6k"
      }
    },
    {
      "cell_type": "code",
      "source": [
        "df['POL']= np.where(df.NOX >0.7, True, False)\n"
      ],
      "metadata": {
        "id": "nWuX-ZFhfPVw"
      },
      "execution_count": 68,
      "outputs": []
    },
    {
      "cell_type": "code",
      "source": [
        "#We can see which rows have a high POL level\n",
        "display(df[df.POL==True])"
      ],
      "metadata": {
        "colab": {
          "base_uri": "https://localhost:8080/",
          "height": 49
        },
        "id": "x3QZtbEHfUad",
        "outputId": "fa0ed476-9c3d-45d3-d227-b6cf1025167c"
      },
      "execution_count": 69,
      "outputs": [
        {
          "output_type": "display_data",
          "data": {
            "text/html": [
              "\n",
              "  <div id=\"df-bbd26c79-1bdc-4474-b447-85761a14a369\">\n",
              "    <div class=\"colab-df-container\">\n",
              "      <div>\n",
              "<style scoped>\n",
              "    .dataframe tbody tr th:only-of-type {\n",
              "        vertical-align: middle;\n",
              "    }\n",
              "\n",
              "    .dataframe tbody tr th {\n",
              "        vertical-align: top;\n",
              "    }\n",
              "\n",
              "    .dataframe thead th {\n",
              "        text-align: right;\n",
              "    }\n",
              "</style>\n",
              "<table border=\"1\" class=\"dataframe\">\n",
              "  <thead>\n",
              "    <tr style=\"text-align: right;\">\n",
              "      <th></th>\n",
              "      <th>CRIM</th>\n",
              "      <th>ZN</th>\n",
              "      <th>INDUS</th>\n",
              "      <th>CHAS</th>\n",
              "      <th>NOX</th>\n",
              "      <th>RM</th>\n",
              "      <th>AGE</th>\n",
              "      <th>DIS</th>\n",
              "      <th>RAD</th>\n",
              "      <th>TAX</th>\n",
              "      <th>PTRATIO</th>\n",
              "      <th>MEDV</th>\n",
              "      <th>POL</th>\n",
              "    </tr>\n",
              "  </thead>\n",
              "  <tbody>\n",
              "  </tbody>\n",
              "</table>\n",
              "</div>\n",
              "      <button class=\"colab-df-convert\" onclick=\"convertToInteractive('df-bbd26c79-1bdc-4474-b447-85761a14a369')\"\n",
              "              title=\"Convert this dataframe to an interactive table.\"\n",
              "              style=\"display:none;\">\n",
              "        \n",
              "  <svg xmlns=\"http://www.w3.org/2000/svg\" height=\"24px\"viewBox=\"0 0 24 24\"\n",
              "       width=\"24px\">\n",
              "    <path d=\"M0 0h24v24H0V0z\" fill=\"none\"/>\n",
              "    <path d=\"M18.56 5.44l.94 2.06.94-2.06 2.06-.94-2.06-.94-.94-2.06-.94 2.06-2.06.94zm-11 1L8.5 8.5l.94-2.06 2.06-.94-2.06-.94L8.5 2.5l-.94 2.06-2.06.94zm10 10l.94 2.06.94-2.06 2.06-.94-2.06-.94-.94-2.06-.94 2.06-2.06.94z\"/><path d=\"M17.41 7.96l-1.37-1.37c-.4-.4-.92-.59-1.43-.59-.52 0-1.04.2-1.43.59L10.3 9.45l-7.72 7.72c-.78.78-.78 2.05 0 2.83L4 21.41c.39.39.9.59 1.41.59.51 0 1.02-.2 1.41-.59l7.78-7.78 2.81-2.81c.8-.78.8-2.07 0-2.86zM5.41 20L4 18.59l7.72-7.72 1.47 1.35L5.41 20z\"/>\n",
              "  </svg>\n",
              "      </button>\n",
              "      \n",
              "  <style>\n",
              "    .colab-df-container {\n",
              "      display:flex;\n",
              "      flex-wrap:wrap;\n",
              "      gap: 12px;\n",
              "    }\n",
              "\n",
              "    .colab-df-convert {\n",
              "      background-color: #E8F0FE;\n",
              "      border: none;\n",
              "      border-radius: 50%;\n",
              "      cursor: pointer;\n",
              "      display: none;\n",
              "      fill: #1967D2;\n",
              "      height: 32px;\n",
              "      padding: 0 0 0 0;\n",
              "      width: 32px;\n",
              "    }\n",
              "\n",
              "    .colab-df-convert:hover {\n",
              "      background-color: #E2EBFA;\n",
              "      box-shadow: 0px 1px 2px rgba(60, 64, 67, 0.3), 0px 1px 3px 1px rgba(60, 64, 67, 0.15);\n",
              "      fill: #174EA6;\n",
              "    }\n",
              "\n",
              "    [theme=dark] .colab-df-convert {\n",
              "      background-color: #3B4455;\n",
              "      fill: #D2E3FC;\n",
              "    }\n",
              "\n",
              "    [theme=dark] .colab-df-convert:hover {\n",
              "      background-color: #434B5C;\n",
              "      box-shadow: 0px 1px 3px 1px rgba(0, 0, 0, 0.15);\n",
              "      filter: drop-shadow(0px 1px 2px rgba(0, 0, 0, 0.3));\n",
              "      fill: #FFFFFF;\n",
              "    }\n",
              "  </style>\n",
              "\n",
              "      <script>\n",
              "        const buttonEl =\n",
              "          document.querySelector('#df-bbd26c79-1bdc-4474-b447-85761a14a369 button.colab-df-convert');\n",
              "        buttonEl.style.display =\n",
              "          google.colab.kernel.accessAllowed ? 'block' : 'none';\n",
              "\n",
              "        async function convertToInteractive(key) {\n",
              "          const element = document.querySelector('#df-bbd26c79-1bdc-4474-b447-85761a14a369');\n",
              "          const dataTable =\n",
              "            await google.colab.kernel.invokeFunction('convertToInteractive',\n",
              "                                                     [key], {});\n",
              "          if (!dataTable) return;\n",
              "\n",
              "          const docLinkHtml = 'Like what you see? Visit the ' +\n",
              "            '<a target=\"_blank\" href=https://colab.research.google.com/notebooks/data_table.ipynb>data table notebook</a>'\n",
              "            + ' to learn more about interactive tables.';\n",
              "          element.innerHTML = '';\n",
              "          dataTable['output_type'] = 'display_data';\n",
              "          await google.colab.output.renderOutput(dataTable, element);\n",
              "          const docLink = document.createElement('div');\n",
              "          docLink.innerHTML = docLinkHtml;\n",
              "          element.appendChild(docLink);\n",
              "        }\n",
              "      </script>\n",
              "    </div>\n",
              "  </div>\n",
              "  "
            ],
            "text/plain": [
              "Empty DataFrame\n",
              "Columns: [CRIM, ZN, INDUS, CHAS, NOX, RM, AGE, DIS, RAD, TAX, PTRATIO, MEDV, POL]\n",
              "Index: []"
            ]
          },
          "metadata": {}
        }
      ]
    },
    {
      "cell_type": "markdown",
      "source": [
        "Another task that frequently occurs in data preparation is the computation of new features, \n",
        "based on values already present within the data. For this investigation, we wish to compute \n",
        "a new categorical feature that will provide an approximation of the difficulty of commuting \n",
        "from a property within that zone, to be named “CMTE”. To achieve this, we will draw data \n",
        "from the weighted distance to the employment centres of Boston, and the accessibility index \n",
        "for radial highways that facilitate mass transit around the city, represented by the features \n",
        "“DIS” and “RAD” respectively. The rule that we will use is as follows:"
      ],
      "metadata": {
        "id": "XEe1PRRGffaY"
      }
    },
    {
      "cell_type": "markdown",
      "source": [
        "* If a zone has a mean distance of less than 3 miles from the main employment \n",
        "centres, the commute rating is “good”.\n",
        "* If a zone has a mean distance from the employment centres of more than 3 miles, but \n",
        "has good access to the radial highways, then the commute rating is “moderate”.\n",
        "* If a zone has a mean distance from the employment centres of more than 3 miles, \n",
        "combined with limited access to the radial highways, then the commute rating is\n",
        "“poor”."
      ],
      "metadata": {
        "id": "GLmCGPKLfgR1"
      }
    },
    {
      "cell_type": "markdown",
      "source": [
        "We can condense these rules into a np.where function, where one np.where resides as one \n",
        "of the logical outcomes of another. Use the following command to compute the new feature, \n",
        "and then add it into the dataset through the usual means"
      ],
      "metadata": {
        "id": "MOlKh_oNfuFB"
      }
    },
    {
      "cell_type": "code",
      "source": [
        "df['CMTE']=np.where(df.DIS <3, \"Good\", np.where(df.RAD < 4, \"Moderate\", \"Poor\"))"
      ],
      "metadata": {
        "id": "k0ywdtZNfxI3"
      },
      "execution_count": 70,
      "outputs": []
    },
    {
      "cell_type": "markdown",
      "source": [
        "Data Transformation\n",
        "To conclude today’s workshop, we shall perform some data transformations. \n",
        "Standardisation is used to convert features into a condition better able to be interpreted by \n",
        "statistical models. The first method that we will employ is standardisation, where the values \n",
        "in a feature are transformed to a scale where the mean lies at 0 and the standard deviation is \n",
        "1. We will standardise the “CRIM” feature, showing the crime rate within each residential \n",
        "zone. To do this, use the following command:"
      ],
      "metadata": {
        "id": "E0XBIXewfzsP"
      }
    },
    {
      "cell_type": "code",
      "source": [
        "df['CRIM_stan']=(df['CRIM']-df['CRIM'].mean())/df['CRIM'].std()"
      ],
      "metadata": {
        "id": "64hOtb-df9HE"
      },
      "execution_count": 71,
      "outputs": []
    },
    {
      "cell_type": "markdown",
      "source": [
        "See https://www.statology.org/standardize-data-python/ for why this does the job. There is \n",
        "also a StandardScaler function in the sklearn library (see https://scikit\u0002learn.org/stable/modules/generated/sklearn.preprocessing.StandardScaler.html) but the \n",
        "above method is quite simpe and doesn’t require importing anything into our program. \n",
        "Display the dataset to see how the feature has been transformed.\n",
        "However, let’s see how to do it with this imported function. First, import the function:"
      ],
      "metadata": {
        "id": "N1-V9asSf_7I"
      }
    },
    {
      "cell_type": "code",
      "source": [
        "from sklearn.preprocessing import StandardScaler"
      ],
      "metadata": {
        "id": "F7y7OIE-gDfB"
      },
      "execution_count": 72,
      "outputs": []
    },
    {
      "cell_type": "code",
      "source": [
        "#Now use it:\n",
        "df['CRIM_stan']=StandardScaler().fit_transform(df[['CRIM']])"
      ],
      "metadata": {
        "id": "jQidJOCegGQK"
      },
      "execution_count": 73,
      "outputs": []
    },
    {
      "cell_type": "markdown",
      "source": [
        "Note the double [[]] in the range specification of the dataframe df. This is because \n",
        "StandardScaler needs to be a two-dimensional data structure. If we look at the shape of the \n",
        "‘CRIM’ column:"
      ],
      "metadata": {
        "id": "FIzzMmrggK3k"
      }
    },
    {
      "cell_type": "code",
      "source": [
        "df['CRIM'].shape"
      ],
      "metadata": {
        "colab": {
          "base_uri": "https://localhost:8080/"
        },
        "id": "wovjDfrOgLx2",
        "outputId": "172af168-97f2-474c-c55d-824b9af0e9a3"
      },
      "execution_count": 74,
      "outputs": [
        {
          "output_type": "execute_result",
          "data": {
            "text/plain": [
              "(7,)"
            ]
          },
          "metadata": {},
          "execution_count": 74
        }
      ]
    },
    {
      "cell_type": "markdown",
      "source": [
        "You will see it has only one dimension as we would expect from a column of scalar data. To \n",
        "give it the two dimensions StandardScaler is expecting we need the double [[]]:\n"
      ],
      "metadata": {
        "id": "SGvPJ9ClgQ0b"
      }
    },
    {
      "cell_type": "code",
      "source": [
        "df[['CRIM']].shape\n"
      ],
      "metadata": {
        "colab": {
          "base_uri": "https://localhost:8080/"
        },
        "id": "X5DTs5ZJgUBN",
        "outputId": "8927d8ea-563e-41b9-f6c5-095c50238079"
      },
      "execution_count": 75,
      "outputs": [
        {
          "output_type": "execute_result",
          "data": {
            "text/plain": [
              "(7, 1)"
            ]
          },
          "metadata": {},
          "execution_count": 75
        }
      ]
    },
    {
      "cell_type": "markdown",
      "source": [
        "See https://stackoverflow.com/questions/51643004/apply-minmaxscaler-on-a-pandas\u0002column\n",
        "Next, we will perform a range-scaling transformation, sometimes called a min-max \n",
        "transformation, on the “INDUS” feature. To do this, we need to introduce the function named \n",
        "MinMaxScaler:\n"
      ],
      "metadata": {
        "id": "DcnQA58YgVaJ"
      }
    },
    {
      "cell_type": "code",
      "source": [
        "from sklearn.preprocessing import MinMaxScaler"
      ],
      "metadata": {
        "id": "SsBYaBw2gZqm"
      },
      "execution_count": 76,
      "outputs": []
    },
    {
      "cell_type": "markdown",
      "source": [
        "We can then apply the function to apply the range-scaling to “INDUS” and store the result in \n",
        "a new column:"
      ],
      "metadata": {
        "id": "-H6uoEkuhCJG"
      }
    },
    {
      "cell_type": "code",
      "source": [
        "df['INDUS_scale']=MinMaxScaler().fit_transform(df[['INDUS']])\n"
      ],
      "metadata": {
        "id": "ExTM8dephCtS"
      },
      "execution_count": 77,
      "outputs": []
    },
    {
      "cell_type": "markdown",
      "source": [
        "Note that all of the values within the “INDUS_scale” feature now fall a point between 0 and \n",
        "1. This transformation works well for features that represent a proportional value. In a real \n",
        "data cleaning situation, transformations may be applied to the majority of the features \n",
        "within a dataset."
      ],
      "metadata": {
        "id": "XaqPiggehKw1"
      }
    },
    {
      "cell_type": "markdown",
      "source": [
        "# Immontherapy CSV Dataset"
      ],
      "metadata": {
        "id": "nP4DHph8hPPF"
      }
    },
    {
      "cell_type": "markdown",
      "source": [
        "Download and the import the “immontherapy.csv” dataset from Blackboard. \n",
        "1) a. What features within the dataset have missing data?\n",
        "b. What percentage of the total dataset is missing. What percentage of data is \n",
        "missing for the features identified in Part A. \n",
        "2) Identify a suitable method of replacing the missing values in each of the features, and \n",
        "then use this method to replace the values so that each feature has complete data. \n",
        "3) To make the identification of potentially troublesome issues for patients, you have \n",
        "been requested to create a new feature recording the induration diameter in a more \n",
        "straightforward way. \n",
        "a. Compute a new feature. For this new feature, the induration diameter should \n",
        "be coded as follows:\n",
        "Small, when the diameter is less than 20.\n",
        "Medium, when the diameter ranges from 20 to 50.\n",
        "Large, when the diameter is greater than 50. \n",
        "b. Based upon this new representation of the data, which size of induration \n",
        "appears most frequently?"
      ],
      "metadata": {
        "id": "D9w6KcB2hT3c"
      }
    }
  ]
}