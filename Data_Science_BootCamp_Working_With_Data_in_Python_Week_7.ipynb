{
  "nbformat": 4,
  "nbformat_minor": 0,
  "metadata": {
    "colab": {
      "name": "Data Science BootCamp - Working With Data in Python - Week 7",
      "provenance": [],
      "authorship_tag": "ABX9TyOK6bujUaVFPtLBojqh92zt",
      "include_colab_link": true
    },
    "kernelspec": {
      "name": "python3",
      "display_name": "Python 3"
    },
    "language_info": {
      "name": "python"
    }
  },
  "cells": [
    {
      "cell_type": "markdown",
      "metadata": {
        "id": "view-in-github",
        "colab_type": "text"
      },
      "source": [
        "<a href=\"https://colab.research.google.com/github/natnew/Python-Projects-Construction-Data-Analysis/blob/main/Data_Science_BootCamp_Working_With_Data_in_Python_Week_7.ipynb\" target=\"_parent\"><img src=\"https://colab.research.google.com/assets/colab-badge.svg\" alt=\"Open In Colab\"/></a>"
      ]
    },
    {
      "cell_type": "markdown",
      "source": [
        "# Introduction"
      ],
      "metadata": {
        "id": "jBnY69_wLVq5"
      }
    },
    {
      "cell_type": "markdown",
      "source": [
        "Knowledge of the data objects, and how they can each be used and manipulated, is an \n",
        "essential skill when working with data in Python. This workshop will introduce some of the \n",
        "most common scenarios that are encountered when importing and working with data from \n",
        "an external source.In most cases, before we can work on any data within Python, we must first import that data \n",
        "into our environment. When we want to work with external data we must import the data \n",
        "prior to working with it.\n",
        "One of the most common formats for data storage is as comma separated values (CSV) files. \n",
        "A .csv file is ideal for the storage of tabular data, as values corresponding to an observation \n",
        "are separated by commas and each observation is stored on an individual line. A .csv file is \n",
        "compatible with the majority of analytical and statistical software and can be loaded into \n",
        "Python with a single command"
      ],
      "metadata": {
        "id": "f7yTiGVULOVp"
      }
    },
    {
      "cell_type": "markdown",
      "source": [
        "Before beginning the exercises for this workshop, be sure to \n",
        "download the dataset from week 7 for: exam_scores.csv."
      ],
      "metadata": {
        "id": "f2Z58pHcLZo6"
      }
    },
    {
      "cell_type": "code",
      "execution_count": 4,
      "metadata": {
        "id": "f2qfR9rgLFTF"
      },
      "outputs": [],
      "source": [
        "#import Pnadas library\n",
        "import pandas as pd\n"
      ]
    },
    {
      "cell_type": "code",
      "source": [
        "#Read the csv file\n",
        "exams = pd.read_csv('exam_scores.csv')\n"
      ],
      "metadata": {
        "id": "1ZRHpa9tL1Tx"
      },
      "execution_count": 6,
      "outputs": []
    },
    {
      "cell_type": "code",
      "source": [
        "#Once the data has been loaded in, use the shape function to view the contents of the dataset.\n",
        "\n",
        "print(exams.shape)"
      ],
      "metadata": {
        "colab": {
          "base_uri": "https://localhost:8080/"
        },
        "id": "BFICQCTiMOH1",
        "outputId": "f0895a1a-67c2-487d-d3b8-690fd607e854"
      },
      "execution_count": 7,
      "outputs": [
        {
          "output_type": "stream",
          "name": "stdout",
          "text": [
            "(1000, 8)\n"
          ]
        }
      ]
    },
    {
      "cell_type": "markdown",
      "source": [
        "We can see that exams is labelled as having 1000 observations of 8 variables. \n",
        "We can examine the structure of a dataframe using the head function. Use the following \n",
        "command to display the structure of the “exam_scores” dataset:"
      ],
      "metadata": {
        "id": "vyT7_H6KMQGa"
      }
    },
    {
      "cell_type": "code",
      "source": [
        "exams.info()"
      ],
      "metadata": {
        "colab": {
          "base_uri": "https://localhost:8080/"
        },
        "id": "7dlcEmJ-MUG9",
        "outputId": "698cdb3e-1e6f-49fb-9d7a-815ff0147b66"
      },
      "execution_count": 8,
      "outputs": [
        {
          "output_type": "stream",
          "name": "stdout",
          "text": [
            "<class 'pandas.core.frame.DataFrame'>\n",
            "RangeIndex: 1000 entries, 0 to 999\n",
            "Data columns (total 8 columns):\n",
            " #   Column                       Non-Null Count  Dtype \n",
            "---  ------                       --------------  ----- \n",
            " 0   gender                       1000 non-null   object\n",
            " 1   race/ethnicity               1000 non-null   object\n",
            " 2   parental level of education  1000 non-null   object\n",
            " 3   lunch                        1000 non-null   object\n",
            " 4   test preparation course      1000 non-null   object\n",
            " 5   math score                   1000 non-null   int64 \n",
            " 6   reading score                1000 non-null   int64 \n",
            " 7   writing score                1000 non-null   int64 \n",
            "dtypes: int64(3), object(5)\n",
            "memory usage: 62.6+ KB\n"
          ]
        }
      ]
    },
    {
      "cell_type": "markdown",
      "source": [
        "You should see that of the 8 features in the dataset, 3 contain numeric values and have been \n",
        "assigned an integer data type (int64) and the remaining five, which contain strings, have \n",
        "been given the general ‘object’ data type. At present, this is not an issue, but it can cause \n",
        "problems when we come to modify the data.\n",
        "Use the following command to see the first five rows of data:\n"
      ],
      "metadata": {
        "id": "HniWF1pTMfzh"
      }
    },
    {
      "cell_type": "code",
      "source": [
        "exams.head()"
      ],
      "metadata": {
        "colab": {
          "base_uri": "https://localhost:8080/",
          "height": 206
        },
        "id": "Cgp_jlBnMgeh",
        "outputId": "e6c0c3e6-39f2-4c8e-bb5c-9d4885248027"
      },
      "execution_count": 9,
      "outputs": [
        {
          "output_type": "execute_result",
          "data": {
            "text/html": [
              "\n",
              "  <div id=\"df-ce055647-d1a7-403c-be63-76922329f78e\">\n",
              "    <div class=\"colab-df-container\">\n",
              "      <div>\n",
              "<style scoped>\n",
              "    .dataframe tbody tr th:only-of-type {\n",
              "        vertical-align: middle;\n",
              "    }\n",
              "\n",
              "    .dataframe tbody tr th {\n",
              "        vertical-align: top;\n",
              "    }\n",
              "\n",
              "    .dataframe thead th {\n",
              "        text-align: right;\n",
              "    }\n",
              "</style>\n",
              "<table border=\"1\" class=\"dataframe\">\n",
              "  <thead>\n",
              "    <tr style=\"text-align: right;\">\n",
              "      <th></th>\n",
              "      <th>gender</th>\n",
              "      <th>race/ethnicity</th>\n",
              "      <th>parental level of education</th>\n",
              "      <th>lunch</th>\n",
              "      <th>test preparation course</th>\n",
              "      <th>math score</th>\n",
              "      <th>reading score</th>\n",
              "      <th>writing score</th>\n",
              "    </tr>\n",
              "  </thead>\n",
              "  <tbody>\n",
              "    <tr>\n",
              "      <th>0</th>\n",
              "      <td>female</td>\n",
              "      <td>group B</td>\n",
              "      <td>bachelor's degree</td>\n",
              "      <td>standard</td>\n",
              "      <td>none</td>\n",
              "      <td>72</td>\n",
              "      <td>72</td>\n",
              "      <td>74</td>\n",
              "    </tr>\n",
              "    <tr>\n",
              "      <th>1</th>\n",
              "      <td>female</td>\n",
              "      <td>group C</td>\n",
              "      <td>some college</td>\n",
              "      <td>standard</td>\n",
              "      <td>completed</td>\n",
              "      <td>69</td>\n",
              "      <td>90</td>\n",
              "      <td>88</td>\n",
              "    </tr>\n",
              "    <tr>\n",
              "      <th>2</th>\n",
              "      <td>female</td>\n",
              "      <td>group B</td>\n",
              "      <td>master's degree</td>\n",
              "      <td>standard</td>\n",
              "      <td>none</td>\n",
              "      <td>90</td>\n",
              "      <td>95</td>\n",
              "      <td>93</td>\n",
              "    </tr>\n",
              "    <tr>\n",
              "      <th>3</th>\n",
              "      <td>male</td>\n",
              "      <td>group A</td>\n",
              "      <td>associate's degree</td>\n",
              "      <td>free/reduced</td>\n",
              "      <td>none</td>\n",
              "      <td>47</td>\n",
              "      <td>57</td>\n",
              "      <td>44</td>\n",
              "    </tr>\n",
              "    <tr>\n",
              "      <th>4</th>\n",
              "      <td>male</td>\n",
              "      <td>group C</td>\n",
              "      <td>some college</td>\n",
              "      <td>standard</td>\n",
              "      <td>none</td>\n",
              "      <td>76</td>\n",
              "      <td>78</td>\n",
              "      <td>75</td>\n",
              "    </tr>\n",
              "  </tbody>\n",
              "</table>\n",
              "</div>\n",
              "      <button class=\"colab-df-convert\" onclick=\"convertToInteractive('df-ce055647-d1a7-403c-be63-76922329f78e')\"\n",
              "              title=\"Convert this dataframe to an interactive table.\"\n",
              "              style=\"display:none;\">\n",
              "        \n",
              "  <svg xmlns=\"http://www.w3.org/2000/svg\" height=\"24px\"viewBox=\"0 0 24 24\"\n",
              "       width=\"24px\">\n",
              "    <path d=\"M0 0h24v24H0V0z\" fill=\"none\"/>\n",
              "    <path d=\"M18.56 5.44l.94 2.06.94-2.06 2.06-.94-2.06-.94-.94-2.06-.94 2.06-2.06.94zm-11 1L8.5 8.5l.94-2.06 2.06-.94-2.06-.94L8.5 2.5l-.94 2.06-2.06.94zm10 10l.94 2.06.94-2.06 2.06-.94-2.06-.94-.94-2.06-.94 2.06-2.06.94z\"/><path d=\"M17.41 7.96l-1.37-1.37c-.4-.4-.92-.59-1.43-.59-.52 0-1.04.2-1.43.59L10.3 9.45l-7.72 7.72c-.78.78-.78 2.05 0 2.83L4 21.41c.39.39.9.59 1.41.59.51 0 1.02-.2 1.41-.59l7.78-7.78 2.81-2.81c.8-.78.8-2.07 0-2.86zM5.41 20L4 18.59l7.72-7.72 1.47 1.35L5.41 20z\"/>\n",
              "  </svg>\n",
              "      </button>\n",
              "      \n",
              "  <style>\n",
              "    .colab-df-container {\n",
              "      display:flex;\n",
              "      flex-wrap:wrap;\n",
              "      gap: 12px;\n",
              "    }\n",
              "\n",
              "    .colab-df-convert {\n",
              "      background-color: #E8F0FE;\n",
              "      border: none;\n",
              "      border-radius: 50%;\n",
              "      cursor: pointer;\n",
              "      display: none;\n",
              "      fill: #1967D2;\n",
              "      height: 32px;\n",
              "      padding: 0 0 0 0;\n",
              "      width: 32px;\n",
              "    }\n",
              "\n",
              "    .colab-df-convert:hover {\n",
              "      background-color: #E2EBFA;\n",
              "      box-shadow: 0px 1px 2px rgba(60, 64, 67, 0.3), 0px 1px 3px 1px rgba(60, 64, 67, 0.15);\n",
              "      fill: #174EA6;\n",
              "    }\n",
              "\n",
              "    [theme=dark] .colab-df-convert {\n",
              "      background-color: #3B4455;\n",
              "      fill: #D2E3FC;\n",
              "    }\n",
              "\n",
              "    [theme=dark] .colab-df-convert:hover {\n",
              "      background-color: #434B5C;\n",
              "      box-shadow: 0px 1px 3px 1px rgba(0, 0, 0, 0.15);\n",
              "      filter: drop-shadow(0px 1px 2px rgba(0, 0, 0, 0.3));\n",
              "      fill: #FFFFFF;\n",
              "    }\n",
              "  </style>\n",
              "\n",
              "      <script>\n",
              "        const buttonEl =\n",
              "          document.querySelector('#df-ce055647-d1a7-403c-be63-76922329f78e button.colab-df-convert');\n",
              "        buttonEl.style.display =\n",
              "          google.colab.kernel.accessAllowed ? 'block' : 'none';\n",
              "\n",
              "        async function convertToInteractive(key) {\n",
              "          const element = document.querySelector('#df-ce055647-d1a7-403c-be63-76922329f78e');\n",
              "          const dataTable =\n",
              "            await google.colab.kernel.invokeFunction('convertToInteractive',\n",
              "                                                     [key], {});\n",
              "          if (!dataTable) return;\n",
              "\n",
              "          const docLinkHtml = 'Like what you see? Visit the ' +\n",
              "            '<a target=\"_blank\" href=https://colab.research.google.com/notebooks/data_table.ipynb>data table notebook</a>'\n",
              "            + ' to learn more about interactive tables.';\n",
              "          element.innerHTML = '';\n",
              "          dataTable['output_type'] = 'display_data';\n",
              "          await google.colab.output.renderOutput(dataTable, element);\n",
              "          const docLink = document.createElement('div');\n",
              "          docLink.innerHTML = docLinkHtml;\n",
              "          element.appendChild(docLink);\n",
              "        }\n",
              "      </script>\n",
              "    </div>\n",
              "  </div>\n",
              "  "
            ],
            "text/plain": [
              "   gender race/ethnicity  ... reading score writing score\n",
              "0  female        group B  ...            72            74\n",
              "1  female        group C  ...            90            88\n",
              "2  female        group B  ...            95            93\n",
              "3    male        group A  ...            57            44\n",
              "4    male        group C  ...            78            75\n",
              "\n",
              "[5 rows x 8 columns]"
            ]
          },
          "metadata": {},
          "execution_count": 9
        }
      ]
    },
    {
      "cell_type": "code",
      "source": [
        "#We can see the first 16 rows of the dataset with this:\n",
        "exams[:16]"
      ],
      "metadata": {
        "colab": {
          "base_uri": "https://localhost:8080/",
          "height": 551
        },
        "id": "iPtmMOSnNBEb",
        "outputId": "15a7cbca-6792-44f5-c40d-d7ab18a1e48e"
      },
      "execution_count": 10,
      "outputs": [
        {
          "output_type": "execute_result",
          "data": {
            "text/html": [
              "\n",
              "  <div id=\"df-336ecbca-6e9c-40cb-b46b-de4109cbd8a9\">\n",
              "    <div class=\"colab-df-container\">\n",
              "      <div>\n",
              "<style scoped>\n",
              "    .dataframe tbody tr th:only-of-type {\n",
              "        vertical-align: middle;\n",
              "    }\n",
              "\n",
              "    .dataframe tbody tr th {\n",
              "        vertical-align: top;\n",
              "    }\n",
              "\n",
              "    .dataframe thead th {\n",
              "        text-align: right;\n",
              "    }\n",
              "</style>\n",
              "<table border=\"1\" class=\"dataframe\">\n",
              "  <thead>\n",
              "    <tr style=\"text-align: right;\">\n",
              "      <th></th>\n",
              "      <th>gender</th>\n",
              "      <th>race/ethnicity</th>\n",
              "      <th>parental level of education</th>\n",
              "      <th>lunch</th>\n",
              "      <th>test preparation course</th>\n",
              "      <th>math score</th>\n",
              "      <th>reading score</th>\n",
              "      <th>writing score</th>\n",
              "    </tr>\n",
              "  </thead>\n",
              "  <tbody>\n",
              "    <tr>\n",
              "      <th>0</th>\n",
              "      <td>female</td>\n",
              "      <td>group B</td>\n",
              "      <td>bachelor's degree</td>\n",
              "      <td>standard</td>\n",
              "      <td>none</td>\n",
              "      <td>72</td>\n",
              "      <td>72</td>\n",
              "      <td>74</td>\n",
              "    </tr>\n",
              "    <tr>\n",
              "      <th>1</th>\n",
              "      <td>female</td>\n",
              "      <td>group C</td>\n",
              "      <td>some college</td>\n",
              "      <td>standard</td>\n",
              "      <td>completed</td>\n",
              "      <td>69</td>\n",
              "      <td>90</td>\n",
              "      <td>88</td>\n",
              "    </tr>\n",
              "    <tr>\n",
              "      <th>2</th>\n",
              "      <td>female</td>\n",
              "      <td>group B</td>\n",
              "      <td>master's degree</td>\n",
              "      <td>standard</td>\n",
              "      <td>none</td>\n",
              "      <td>90</td>\n",
              "      <td>95</td>\n",
              "      <td>93</td>\n",
              "    </tr>\n",
              "    <tr>\n",
              "      <th>3</th>\n",
              "      <td>male</td>\n",
              "      <td>group A</td>\n",
              "      <td>associate's degree</td>\n",
              "      <td>free/reduced</td>\n",
              "      <td>none</td>\n",
              "      <td>47</td>\n",
              "      <td>57</td>\n",
              "      <td>44</td>\n",
              "    </tr>\n",
              "    <tr>\n",
              "      <th>4</th>\n",
              "      <td>male</td>\n",
              "      <td>group C</td>\n",
              "      <td>some college</td>\n",
              "      <td>standard</td>\n",
              "      <td>none</td>\n",
              "      <td>76</td>\n",
              "      <td>78</td>\n",
              "      <td>75</td>\n",
              "    </tr>\n",
              "    <tr>\n",
              "      <th>5</th>\n",
              "      <td>female</td>\n",
              "      <td>group B</td>\n",
              "      <td>associate's degree</td>\n",
              "      <td>standard</td>\n",
              "      <td>none</td>\n",
              "      <td>71</td>\n",
              "      <td>83</td>\n",
              "      <td>78</td>\n",
              "    </tr>\n",
              "    <tr>\n",
              "      <th>6</th>\n",
              "      <td>female</td>\n",
              "      <td>group B</td>\n",
              "      <td>some college</td>\n",
              "      <td>standard</td>\n",
              "      <td>completed</td>\n",
              "      <td>88</td>\n",
              "      <td>95</td>\n",
              "      <td>92</td>\n",
              "    </tr>\n",
              "    <tr>\n",
              "      <th>7</th>\n",
              "      <td>male</td>\n",
              "      <td>group B</td>\n",
              "      <td>some college</td>\n",
              "      <td>free/reduced</td>\n",
              "      <td>none</td>\n",
              "      <td>40</td>\n",
              "      <td>43</td>\n",
              "      <td>39</td>\n",
              "    </tr>\n",
              "    <tr>\n",
              "      <th>8</th>\n",
              "      <td>male</td>\n",
              "      <td>group D</td>\n",
              "      <td>high school</td>\n",
              "      <td>free/reduced</td>\n",
              "      <td>completed</td>\n",
              "      <td>64</td>\n",
              "      <td>64</td>\n",
              "      <td>67</td>\n",
              "    </tr>\n",
              "    <tr>\n",
              "      <th>9</th>\n",
              "      <td>female</td>\n",
              "      <td>group B</td>\n",
              "      <td>high school</td>\n",
              "      <td>free/reduced</td>\n",
              "      <td>none</td>\n",
              "      <td>38</td>\n",
              "      <td>60</td>\n",
              "      <td>50</td>\n",
              "    </tr>\n",
              "    <tr>\n",
              "      <th>10</th>\n",
              "      <td>male</td>\n",
              "      <td>group C</td>\n",
              "      <td>associate's degree</td>\n",
              "      <td>standard</td>\n",
              "      <td>none</td>\n",
              "      <td>58</td>\n",
              "      <td>54</td>\n",
              "      <td>52</td>\n",
              "    </tr>\n",
              "    <tr>\n",
              "      <th>11</th>\n",
              "      <td>male</td>\n",
              "      <td>group D</td>\n",
              "      <td>associate's degree</td>\n",
              "      <td>standard</td>\n",
              "      <td>none</td>\n",
              "      <td>40</td>\n",
              "      <td>52</td>\n",
              "      <td>43</td>\n",
              "    </tr>\n",
              "    <tr>\n",
              "      <th>12</th>\n",
              "      <td>female</td>\n",
              "      <td>group B</td>\n",
              "      <td>high school</td>\n",
              "      <td>standard</td>\n",
              "      <td>none</td>\n",
              "      <td>65</td>\n",
              "      <td>81</td>\n",
              "      <td>73</td>\n",
              "    </tr>\n",
              "    <tr>\n",
              "      <th>13</th>\n",
              "      <td>male</td>\n",
              "      <td>group A</td>\n",
              "      <td>some college</td>\n",
              "      <td>standard</td>\n",
              "      <td>completed</td>\n",
              "      <td>78</td>\n",
              "      <td>72</td>\n",
              "      <td>70</td>\n",
              "    </tr>\n",
              "    <tr>\n",
              "      <th>14</th>\n",
              "      <td>female</td>\n",
              "      <td>group A</td>\n",
              "      <td>master's degree</td>\n",
              "      <td>standard</td>\n",
              "      <td>none</td>\n",
              "      <td>50</td>\n",
              "      <td>53</td>\n",
              "      <td>58</td>\n",
              "    </tr>\n",
              "    <tr>\n",
              "      <th>15</th>\n",
              "      <td>female</td>\n",
              "      <td>group C</td>\n",
              "      <td>some high school</td>\n",
              "      <td>standard</td>\n",
              "      <td>none</td>\n",
              "      <td>69</td>\n",
              "      <td>75</td>\n",
              "      <td>78</td>\n",
              "    </tr>\n",
              "  </tbody>\n",
              "</table>\n",
              "</div>\n",
              "      <button class=\"colab-df-convert\" onclick=\"convertToInteractive('df-336ecbca-6e9c-40cb-b46b-de4109cbd8a9')\"\n",
              "              title=\"Convert this dataframe to an interactive table.\"\n",
              "              style=\"display:none;\">\n",
              "        \n",
              "  <svg xmlns=\"http://www.w3.org/2000/svg\" height=\"24px\"viewBox=\"0 0 24 24\"\n",
              "       width=\"24px\">\n",
              "    <path d=\"M0 0h24v24H0V0z\" fill=\"none\"/>\n",
              "    <path d=\"M18.56 5.44l.94 2.06.94-2.06 2.06-.94-2.06-.94-.94-2.06-.94 2.06-2.06.94zm-11 1L8.5 8.5l.94-2.06 2.06-.94-2.06-.94L8.5 2.5l-.94 2.06-2.06.94zm10 10l.94 2.06.94-2.06 2.06-.94-2.06-.94-.94-2.06-.94 2.06-2.06.94z\"/><path d=\"M17.41 7.96l-1.37-1.37c-.4-.4-.92-.59-1.43-.59-.52 0-1.04.2-1.43.59L10.3 9.45l-7.72 7.72c-.78.78-.78 2.05 0 2.83L4 21.41c.39.39.9.59 1.41.59.51 0 1.02-.2 1.41-.59l7.78-7.78 2.81-2.81c.8-.78.8-2.07 0-2.86zM5.41 20L4 18.59l7.72-7.72 1.47 1.35L5.41 20z\"/>\n",
              "  </svg>\n",
              "      </button>\n",
              "      \n",
              "  <style>\n",
              "    .colab-df-container {\n",
              "      display:flex;\n",
              "      flex-wrap:wrap;\n",
              "      gap: 12px;\n",
              "    }\n",
              "\n",
              "    .colab-df-convert {\n",
              "      background-color: #E8F0FE;\n",
              "      border: none;\n",
              "      border-radius: 50%;\n",
              "      cursor: pointer;\n",
              "      display: none;\n",
              "      fill: #1967D2;\n",
              "      height: 32px;\n",
              "      padding: 0 0 0 0;\n",
              "      width: 32px;\n",
              "    }\n",
              "\n",
              "    .colab-df-convert:hover {\n",
              "      background-color: #E2EBFA;\n",
              "      box-shadow: 0px 1px 2px rgba(60, 64, 67, 0.3), 0px 1px 3px 1px rgba(60, 64, 67, 0.15);\n",
              "      fill: #174EA6;\n",
              "    }\n",
              "\n",
              "    [theme=dark] .colab-df-convert {\n",
              "      background-color: #3B4455;\n",
              "      fill: #D2E3FC;\n",
              "    }\n",
              "\n",
              "    [theme=dark] .colab-df-convert:hover {\n",
              "      background-color: #434B5C;\n",
              "      box-shadow: 0px 1px 3px 1px rgba(0, 0, 0, 0.15);\n",
              "      filter: drop-shadow(0px 1px 2px rgba(0, 0, 0, 0.3));\n",
              "      fill: #FFFFFF;\n",
              "    }\n",
              "  </style>\n",
              "\n",
              "      <script>\n",
              "        const buttonEl =\n",
              "          document.querySelector('#df-336ecbca-6e9c-40cb-b46b-de4109cbd8a9 button.colab-df-convert');\n",
              "        buttonEl.style.display =\n",
              "          google.colab.kernel.accessAllowed ? 'block' : 'none';\n",
              "\n",
              "        async function convertToInteractive(key) {\n",
              "          const element = document.querySelector('#df-336ecbca-6e9c-40cb-b46b-de4109cbd8a9');\n",
              "          const dataTable =\n",
              "            await google.colab.kernel.invokeFunction('convertToInteractive',\n",
              "                                                     [key], {});\n",
              "          if (!dataTable) return;\n",
              "\n",
              "          const docLinkHtml = 'Like what you see? Visit the ' +\n",
              "            '<a target=\"_blank\" href=https://colab.research.google.com/notebooks/data_table.ipynb>data table notebook</a>'\n",
              "            + ' to learn more about interactive tables.';\n",
              "          element.innerHTML = '';\n",
              "          dataTable['output_type'] = 'display_data';\n",
              "          await google.colab.output.renderOutput(dataTable, element);\n",
              "          const docLink = document.createElement('div');\n",
              "          docLink.innerHTML = docLinkHtml;\n",
              "          element.appendChild(docLink);\n",
              "        }\n",
              "      </script>\n",
              "    </div>\n",
              "  </div>\n",
              "  "
            ],
            "text/plain": [
              "    gender race/ethnicity  ... reading score writing score\n",
              "0   female        group B  ...            72            74\n",
              "1   female        group C  ...            90            88\n",
              "2   female        group B  ...            95            93\n",
              "3     male        group A  ...            57            44\n",
              "4     male        group C  ...            78            75\n",
              "5   female        group B  ...            83            78\n",
              "6   female        group B  ...            95            92\n",
              "7     male        group B  ...            43            39\n",
              "8     male        group D  ...            64            67\n",
              "9   female        group B  ...            60            50\n",
              "10    male        group C  ...            54            52\n",
              "11    male        group D  ...            52            43\n",
              "12  female        group B  ...            81            73\n",
              "13    male        group A  ...            72            70\n",
              "14  female        group A  ...            53            58\n",
              "15  female        group C  ...            75            78\n",
              "\n",
              "[16 rows x 8 columns]"
            ]
          },
          "metadata": {},
          "execution_count": 10
        }
      ]
    },
    {
      "cell_type": "markdown",
      "source": [
        "After investigating the data, we believe that the category of “some high school” in the \n",
        "parental education feature (see the 16th row (index 15)) is open to misinterpretation, so we \n",
        "decide to change the name of that category to the highest level of education completed \n",
        "before high school, which is middle school. To change these categories, we can do the \n",
        "following:\n"
      ],
      "metadata": {
        "id": "2D5myRWAOSQ1"
      }
    },
    {
      "cell_type": "code",
      "source": [
        "exams['parental level of education'] = exams['parental level of education'].replace(['some high school'],'middle school')\n"
      ],
      "metadata": {
        "id": "vMvvPRT1OS-x"
      },
      "execution_count": 14,
      "outputs": []
    },
    {
      "cell_type": "markdown",
      "source": [
        "In natural language, the above statement translates as for each parental level of education \n",
        "value, if it is equal to “some high school”, then change the value to “middle school”, else \n",
        "retain the same value. Now, use view the first 16 rows again to see how the dataset has \n",
        "been changed.\n"
      ],
      "metadata": {
        "id": "AsiKD_tAOeM2"
      }
    },
    {
      "cell_type": "code",
      "source": [
        "#We can see the first 16 rows of the dataset with this:\n",
        "exams[:16]"
      ],
      "metadata": {
        "colab": {
          "base_uri": "https://localhost:8080/",
          "height": 551
        },
        "id": "YY9EZEqFOhsO",
        "outputId": "e26faac9-ac72-46b4-f026-2323372c1354"
      },
      "execution_count": 15,
      "outputs": [
        {
          "output_type": "execute_result",
          "data": {
            "text/html": [
              "\n",
              "  <div id=\"df-bbc2c5ac-a447-408d-8517-5069f220740d\">\n",
              "    <div class=\"colab-df-container\">\n",
              "      <div>\n",
              "<style scoped>\n",
              "    .dataframe tbody tr th:only-of-type {\n",
              "        vertical-align: middle;\n",
              "    }\n",
              "\n",
              "    .dataframe tbody tr th {\n",
              "        vertical-align: top;\n",
              "    }\n",
              "\n",
              "    .dataframe thead th {\n",
              "        text-align: right;\n",
              "    }\n",
              "</style>\n",
              "<table border=\"1\" class=\"dataframe\">\n",
              "  <thead>\n",
              "    <tr style=\"text-align: right;\">\n",
              "      <th></th>\n",
              "      <th>gender</th>\n",
              "      <th>race/ethnicity</th>\n",
              "      <th>parental level of education</th>\n",
              "      <th>lunch</th>\n",
              "      <th>test preparation course</th>\n",
              "      <th>math score</th>\n",
              "      <th>reading score</th>\n",
              "      <th>writing score</th>\n",
              "    </tr>\n",
              "  </thead>\n",
              "  <tbody>\n",
              "    <tr>\n",
              "      <th>0</th>\n",
              "      <td>female</td>\n",
              "      <td>group B</td>\n",
              "      <td>bachelor's degree</td>\n",
              "      <td>standard</td>\n",
              "      <td>none</td>\n",
              "      <td>72</td>\n",
              "      <td>72</td>\n",
              "      <td>74</td>\n",
              "    </tr>\n",
              "    <tr>\n",
              "      <th>1</th>\n",
              "      <td>female</td>\n",
              "      <td>group C</td>\n",
              "      <td>some college</td>\n",
              "      <td>standard</td>\n",
              "      <td>completed</td>\n",
              "      <td>69</td>\n",
              "      <td>90</td>\n",
              "      <td>88</td>\n",
              "    </tr>\n",
              "    <tr>\n",
              "      <th>2</th>\n",
              "      <td>female</td>\n",
              "      <td>group B</td>\n",
              "      <td>master's degree</td>\n",
              "      <td>standard</td>\n",
              "      <td>none</td>\n",
              "      <td>90</td>\n",
              "      <td>95</td>\n",
              "      <td>93</td>\n",
              "    </tr>\n",
              "    <tr>\n",
              "      <th>3</th>\n",
              "      <td>male</td>\n",
              "      <td>group A</td>\n",
              "      <td>associate's degree</td>\n",
              "      <td>free/reduced</td>\n",
              "      <td>none</td>\n",
              "      <td>47</td>\n",
              "      <td>57</td>\n",
              "      <td>44</td>\n",
              "    </tr>\n",
              "    <tr>\n",
              "      <th>4</th>\n",
              "      <td>male</td>\n",
              "      <td>group C</td>\n",
              "      <td>some college</td>\n",
              "      <td>standard</td>\n",
              "      <td>none</td>\n",
              "      <td>76</td>\n",
              "      <td>78</td>\n",
              "      <td>75</td>\n",
              "    </tr>\n",
              "    <tr>\n",
              "      <th>5</th>\n",
              "      <td>female</td>\n",
              "      <td>group B</td>\n",
              "      <td>associate's degree</td>\n",
              "      <td>standard</td>\n",
              "      <td>none</td>\n",
              "      <td>71</td>\n",
              "      <td>83</td>\n",
              "      <td>78</td>\n",
              "    </tr>\n",
              "    <tr>\n",
              "      <th>6</th>\n",
              "      <td>female</td>\n",
              "      <td>group B</td>\n",
              "      <td>some college</td>\n",
              "      <td>standard</td>\n",
              "      <td>completed</td>\n",
              "      <td>88</td>\n",
              "      <td>95</td>\n",
              "      <td>92</td>\n",
              "    </tr>\n",
              "    <tr>\n",
              "      <th>7</th>\n",
              "      <td>male</td>\n",
              "      <td>group B</td>\n",
              "      <td>some college</td>\n",
              "      <td>free/reduced</td>\n",
              "      <td>none</td>\n",
              "      <td>40</td>\n",
              "      <td>43</td>\n",
              "      <td>39</td>\n",
              "    </tr>\n",
              "    <tr>\n",
              "      <th>8</th>\n",
              "      <td>male</td>\n",
              "      <td>group D</td>\n",
              "      <td>high school</td>\n",
              "      <td>free/reduced</td>\n",
              "      <td>completed</td>\n",
              "      <td>64</td>\n",
              "      <td>64</td>\n",
              "      <td>67</td>\n",
              "    </tr>\n",
              "    <tr>\n",
              "      <th>9</th>\n",
              "      <td>female</td>\n",
              "      <td>group B</td>\n",
              "      <td>high school</td>\n",
              "      <td>free/reduced</td>\n",
              "      <td>none</td>\n",
              "      <td>38</td>\n",
              "      <td>60</td>\n",
              "      <td>50</td>\n",
              "    </tr>\n",
              "    <tr>\n",
              "      <th>10</th>\n",
              "      <td>male</td>\n",
              "      <td>group C</td>\n",
              "      <td>associate's degree</td>\n",
              "      <td>standard</td>\n",
              "      <td>none</td>\n",
              "      <td>58</td>\n",
              "      <td>54</td>\n",
              "      <td>52</td>\n",
              "    </tr>\n",
              "    <tr>\n",
              "      <th>11</th>\n",
              "      <td>male</td>\n",
              "      <td>group D</td>\n",
              "      <td>associate's degree</td>\n",
              "      <td>standard</td>\n",
              "      <td>none</td>\n",
              "      <td>40</td>\n",
              "      <td>52</td>\n",
              "      <td>43</td>\n",
              "    </tr>\n",
              "    <tr>\n",
              "      <th>12</th>\n",
              "      <td>female</td>\n",
              "      <td>group B</td>\n",
              "      <td>high school</td>\n",
              "      <td>standard</td>\n",
              "      <td>none</td>\n",
              "      <td>65</td>\n",
              "      <td>81</td>\n",
              "      <td>73</td>\n",
              "    </tr>\n",
              "    <tr>\n",
              "      <th>13</th>\n",
              "      <td>male</td>\n",
              "      <td>group A</td>\n",
              "      <td>some college</td>\n",
              "      <td>standard</td>\n",
              "      <td>completed</td>\n",
              "      <td>78</td>\n",
              "      <td>72</td>\n",
              "      <td>70</td>\n",
              "    </tr>\n",
              "    <tr>\n",
              "      <th>14</th>\n",
              "      <td>female</td>\n",
              "      <td>group A</td>\n",
              "      <td>master's degree</td>\n",
              "      <td>standard</td>\n",
              "      <td>none</td>\n",
              "      <td>50</td>\n",
              "      <td>53</td>\n",
              "      <td>58</td>\n",
              "    </tr>\n",
              "    <tr>\n",
              "      <th>15</th>\n",
              "      <td>female</td>\n",
              "      <td>group C</td>\n",
              "      <td>middle school</td>\n",
              "      <td>standard</td>\n",
              "      <td>none</td>\n",
              "      <td>69</td>\n",
              "      <td>75</td>\n",
              "      <td>78</td>\n",
              "    </tr>\n",
              "  </tbody>\n",
              "</table>\n",
              "</div>\n",
              "      <button class=\"colab-df-convert\" onclick=\"convertToInteractive('df-bbc2c5ac-a447-408d-8517-5069f220740d')\"\n",
              "              title=\"Convert this dataframe to an interactive table.\"\n",
              "              style=\"display:none;\">\n",
              "        \n",
              "  <svg xmlns=\"http://www.w3.org/2000/svg\" height=\"24px\"viewBox=\"0 0 24 24\"\n",
              "       width=\"24px\">\n",
              "    <path d=\"M0 0h24v24H0V0z\" fill=\"none\"/>\n",
              "    <path d=\"M18.56 5.44l.94 2.06.94-2.06 2.06-.94-2.06-.94-.94-2.06-.94 2.06-2.06.94zm-11 1L8.5 8.5l.94-2.06 2.06-.94-2.06-.94L8.5 2.5l-.94 2.06-2.06.94zm10 10l.94 2.06.94-2.06 2.06-.94-2.06-.94-.94-2.06-.94 2.06-2.06.94z\"/><path d=\"M17.41 7.96l-1.37-1.37c-.4-.4-.92-.59-1.43-.59-.52 0-1.04.2-1.43.59L10.3 9.45l-7.72 7.72c-.78.78-.78 2.05 0 2.83L4 21.41c.39.39.9.59 1.41.59.51 0 1.02-.2 1.41-.59l7.78-7.78 2.81-2.81c.8-.78.8-2.07 0-2.86zM5.41 20L4 18.59l7.72-7.72 1.47 1.35L5.41 20z\"/>\n",
              "  </svg>\n",
              "      </button>\n",
              "      \n",
              "  <style>\n",
              "    .colab-df-container {\n",
              "      display:flex;\n",
              "      flex-wrap:wrap;\n",
              "      gap: 12px;\n",
              "    }\n",
              "\n",
              "    .colab-df-convert {\n",
              "      background-color: #E8F0FE;\n",
              "      border: none;\n",
              "      border-radius: 50%;\n",
              "      cursor: pointer;\n",
              "      display: none;\n",
              "      fill: #1967D2;\n",
              "      height: 32px;\n",
              "      padding: 0 0 0 0;\n",
              "      width: 32px;\n",
              "    }\n",
              "\n",
              "    .colab-df-convert:hover {\n",
              "      background-color: #E2EBFA;\n",
              "      box-shadow: 0px 1px 2px rgba(60, 64, 67, 0.3), 0px 1px 3px 1px rgba(60, 64, 67, 0.15);\n",
              "      fill: #174EA6;\n",
              "    }\n",
              "\n",
              "    [theme=dark] .colab-df-convert {\n",
              "      background-color: #3B4455;\n",
              "      fill: #D2E3FC;\n",
              "    }\n",
              "\n",
              "    [theme=dark] .colab-df-convert:hover {\n",
              "      background-color: #434B5C;\n",
              "      box-shadow: 0px 1px 3px 1px rgba(0, 0, 0, 0.15);\n",
              "      filter: drop-shadow(0px 1px 2px rgba(0, 0, 0, 0.3));\n",
              "      fill: #FFFFFF;\n",
              "    }\n",
              "  </style>\n",
              "\n",
              "      <script>\n",
              "        const buttonEl =\n",
              "          document.querySelector('#df-bbc2c5ac-a447-408d-8517-5069f220740d button.colab-df-convert');\n",
              "        buttonEl.style.display =\n",
              "          google.colab.kernel.accessAllowed ? 'block' : 'none';\n",
              "\n",
              "        async function convertToInteractive(key) {\n",
              "          const element = document.querySelector('#df-bbc2c5ac-a447-408d-8517-5069f220740d');\n",
              "          const dataTable =\n",
              "            await google.colab.kernel.invokeFunction('convertToInteractive',\n",
              "                                                     [key], {});\n",
              "          if (!dataTable) return;\n",
              "\n",
              "          const docLinkHtml = 'Like what you see? Visit the ' +\n",
              "            '<a target=\"_blank\" href=https://colab.research.google.com/notebooks/data_table.ipynb>data table notebook</a>'\n",
              "            + ' to learn more about interactive tables.';\n",
              "          element.innerHTML = '';\n",
              "          dataTable['output_type'] = 'display_data';\n",
              "          await google.colab.output.renderOutput(dataTable, element);\n",
              "          const docLink = document.createElement('div');\n",
              "          docLink.innerHTML = docLinkHtml;\n",
              "          element.appendChild(docLink);\n",
              "        }\n",
              "      </script>\n",
              "    </div>\n",
              "  </div>\n",
              "  "
            ],
            "text/plain": [
              "    gender race/ethnicity  ... reading score writing score\n",
              "0   female        group B  ...            72            74\n",
              "1   female        group C  ...            90            88\n",
              "2   female        group B  ...            95            93\n",
              "3     male        group A  ...            57            44\n",
              "4     male        group C  ...            78            75\n",
              "5   female        group B  ...            83            78\n",
              "6   female        group B  ...            95            92\n",
              "7     male        group B  ...            43            39\n",
              "8     male        group D  ...            64            67\n",
              "9   female        group B  ...            60            50\n",
              "10    male        group C  ...            54            52\n",
              "11    male        group D  ...            52            43\n",
              "12  female        group B  ...            81            73\n",
              "13    male        group A  ...            72            70\n",
              "14  female        group A  ...            53            58\n",
              "15  female        group C  ...            75            78\n",
              "\n",
              "[16 rows x 8 columns]"
            ]
          },
          "metadata": {},
          "execution_count": 15
        }
      ]
    },
    {
      "cell_type": "markdown",
      "source": [
        "We can use the some statistical functions from the numpy library to generate values that we \n",
        "can use in a data series. Let’s import numpy and matplotlib too so that we can plot some \n",
        "charts.\n"
      ],
      "metadata": {
        "id": "5VR04AsVOxUo"
      }
    },
    {
      "cell_type": "code",
      "source": [
        "#Import numpy and matplotlib\n",
        "import numpy as np\n",
        "from matplotlib import pyplot as plt"
      ],
      "metadata": {
        "id": "vSrJledrOyJ2"
      },
      "execution_count": 16,
      "outputs": []
    },
    {
      "cell_type": "markdown",
      "source": [
        "The function np.random.norm generates random values, and takes three arguments: the \n",
        "mean value of the series, the standard deviation, and the number of values in the series. To \n",
        "create a data series of 50 events with a normal distribution, a mean of 10 and a standard \n",
        "deviation of 2, use the following command:"
      ],
      "metadata": {
        "id": "E1Qv_HdmO6eN"
      }
    },
    {
      "cell_type": "code",
      "source": [
        "series = np.random.normal(10, 2, 50)"
      ],
      "metadata": {
        "id": "paexQvx0O7An"
      },
      "execution_count": 17,
      "outputs": []
    },
    {
      "cell_type": "markdown",
      "source": [
        "You then use the plt.hist function to create a histogram, allowing you to visualise the data \n",
        "series."
      ],
      "metadata": {
        "id": "5J1krC0ePAOg"
      }
    },
    {
      "cell_type": "code",
      "source": [
        "plt.hist(series)\n",
        "plt.show()"
      ],
      "metadata": {
        "colab": {
          "base_uri": "https://localhost:8080/",
          "height": 265
        },
        "id": "SSAlrw3sPBSC",
        "outputId": "55ba3830-39b0-49a4-a359-c5166421aa77"
      },
      "execution_count": 18,
      "outputs": [
        {
          "output_type": "display_data",
          "data": {
            "image/png": "[encoded data removed]",
            "text/plain": [
              "<Figure size 432x288 with 1 Axes>"
            ]
          },
          "metadata": {
            "needs_background": "light"
          }
        }
      ]
    },
    {
      "cell_type": "markdown",
      "source": [
        "In addition to random.normal, other important functions to know are random.uniform (for \n",
        "uniform distributions), random.poisson (for poisson distributions) and random.binomial, for \n",
        "the binomial distribution. The key parameters for each are detailed below: <br>\n",
        "* np.random.uniform (min = x, max = y, n), where n is the number of values in the data \n",
        "series and the min and max parameters set the upper and lower bounds for the \n",
        "values to fall within. To produce a data series of 50 values, spread (approximately) \n",
        "uniformly between 10 and 20, we use the following command:\n",
        "np.random.uniform(10, 20, 50)\n",
        "* random.poisson (lambda, n), where n is the number of values in the data series and \n",
        "lambda sets the lambda value. To produce a data series of 50 values, with a lambda \n",
        "of 3, we use the following command:\n",
        "* np.random.binomial (n, prob, size), where n is the number of observations you want, \n",
        "size is the number of trials per observation, and prob is the probability of success for \n",
        "each trial. For example, to estimate the outcome of flipping a single coin 100 times \n",
        "we use the following command"
      ],
      "metadata": {
        "id": "Ay7ckF8nPjfl"
      }
    },
    {
      "cell_type": "code",
      "source": [
        "np.random.uniform(10, 20, 50)"
      ],
      "metadata": {
        "colab": {
          "base_uri": "https://localhost:8080/"
        },
        "id": "2aNggy8dPyit",
        "outputId": "093ed0d7-a903-410f-cfed-525d360c6599"
      },
      "execution_count": 20,
      "outputs": [
        {
          "output_type": "execute_result",
          "data": {
            "text/plain": [
              "array([14.05415461, 14.38445857, 13.27254724, 14.14672219, 11.96225938,\n",
              "       17.55244747, 17.89841204, 18.00085499, 14.19395101, 19.73172323,\n",
              "       14.33114523, 16.37910477, 12.43998798, 16.61455929, 18.39949582,\n",
              "       19.03102234, 15.52471678, 12.44584532, 12.6697427 , 10.43752036,\n",
              "       19.1577454 , 10.02542907, 12.38285792, 14.80997302, 12.30065843,\n",
              "       13.44989446, 11.06024771, 12.3942713 , 15.36815235, 11.68762446,\n",
              "       15.07097528, 15.42542836, 17.95331493, 15.46924498, 10.12104711,\n",
              "       16.27223617, 12.98478763, 16.7270949 , 17.69671038, 10.88427095,\n",
              "       16.97283753, 17.52527175, 19.3046183 , 16.4947972 , 14.99526786,\n",
              "       10.02027716, 15.10188602, 10.2379143 , 13.33477338, 12.62547738])"
            ]
          },
          "metadata": {},
          "execution_count": 20
        }
      ]
    },
    {
      "cell_type": "code",
      "source": [
        "np.random.poisson (3, 50)\n"
      ],
      "metadata": {
        "colab": {
          "base_uri": "https://localhost:8080/"
        },
        "id": "Bt6k_0HHPrIt",
        "outputId": "4fc8fd88-f57b-45e1-f615-82fe46719da4"
      },
      "execution_count": 19,
      "outputs": [
        {
          "output_type": "execute_result",
          "data": {
            "text/plain": [
              "array([3, 2, 3, 9, 2, 3, 2, 3, 4, 8, 4, 9, 3, 1, 2, 6, 0, 3, 4, 0, 3, 1,\n",
              "       4, 6, 7, 2, 5, 6, 1, 3, 4, 1, 3, 6, 9, 6, 1, 1, 1, 5, 4, 2, 3, 2,\n",
              "       2, 4, 2, 1, 0, 4])"
            ]
          },
          "metadata": {},
          "execution_count": 19
        }
      ]
    },
    {
      "cell_type": "code",
      "source": [
        "np.random.binomial(100, 0.5, 1)"
      ],
      "metadata": {
        "colab": {
          "base_uri": "https://localhost:8080/"
        },
        "id": "E6mRwznJP6_T",
        "outputId": "61dca908-7d09-4fad-b452-f56dfa5e7dab"
      },
      "execution_count": 21,
      "outputs": [
        {
          "output_type": "execute_result",
          "data": {
            "text/plain": [
              "array([50])"
            ]
          },
          "metadata": {},
          "execution_count": 21
        }
      ]
    },
    {
      "cell_type": "code",
      "source": [
        "#Or, to flip 1000 coins 10 times each:\n",
        "np.random.binomial(10, 0.5, 1000)"
      ],
      "metadata": {
        "colab": {
          "base_uri": "https://localhost:8080/"
        },
        "id": "nq74c_H-P-oL",
        "outputId": "fdb66560-7cbb-4a6f-e9b0-0574b3ed11ea"
      },
      "execution_count": 22,
      "outputs": [
        {
          "output_type": "execute_result",
          "data": {
            "text/plain": [
              "array([ 6,  5,  6,  7,  4,  4,  8,  5,  6,  2,  6,  6,  4,  4,  6,  5,  4,\n",
              "        5,  8,  7,  3,  4,  5,  5,  1,  4,  8,  6,  4,  5,  6,  5,  5,  7,\n",
              "        7,  4,  5,  4,  2,  4,  4,  5,  7,  4,  5,  6,  5,  8,  5,  3,  5,\n",
              "        4,  3,  6,  5,  3,  4,  4,  5,  4,  6,  4,  2,  4,  4,  6,  4,  5,\n",
              "        4,  2,  3,  4,  3,  5,  4,  7,  5,  5,  5,  7,  6,  7,  3,  5,  7,\n",
              "        5,  2,  3,  2,  2,  5,  7,  5,  4,  6,  9,  6,  4,  4,  9,  6,  3,\n",
              "        2,  4,  7,  7,  6,  5,  7,  9,  5,  6,  6,  5,  6,  5,  5,  6,  7,\n",
              "        8,  8,  6,  7,  3,  6,  4,  5,  6,  7,  4,  2,  6,  5,  6,  6,  4,\n",
              "        6,  5,  3,  7,  4,  5,  5,  6,  4,  3,  5,  6,  5,  7,  4,  4,  4,\n",
              "        3,  3,  6,  7,  3,  5,  3,  7,  3,  6,  6,  3,  5,  2,  6,  5,  4,\n",
              "        2,  6,  6,  6,  7,  0,  4,  5,  4,  4,  3,  5,  4,  6,  5,  6,  4,\n",
              "        7,  5,  5,  7,  5,  3,  4,  3,  7,  5,  7,  5,  4,  6,  4,  8,  6,\n",
              "        6,  5,  5,  9,  6,  6,  6,  6,  6,  6,  2,  3,  4,  5,  7,  7,  2,\n",
              "        6,  6,  6,  6,  8,  7,  6,  4,  7,  4,  7,  3,  3,  3,  2,  4,  7,\n",
              "        2,  6,  6,  3,  5,  7,  6,  3,  3,  4,  6,  7,  4,  4,  4,  6,  5,\n",
              "        6,  5,  5,  5,  6,  7,  7,  4,  5,  6,  4,  3,  7,  7,  2,  3,  4,\n",
              "        5,  2,  6,  6,  4,  3,  2,  4,  7,  2,  4,  5,  7,  3,  7,  4,  8,\n",
              "        5,  5,  4,  6,  6,  5,  4,  5,  6,  4,  4,  5,  5,  4,  4,  5,  4,\n",
              "        4,  7,  7,  6,  6,  5,  4,  6,  6,  8,  5,  5,  6,  5,  5,  7,  7,\n",
              "        3,  5,  6,  5,  5,  6,  5,  4,  5,  8,  5,  4,  5,  5,  7,  3,  5,\n",
              "        4,  7,  8,  6,  5,  6,  6,  5,  4,  3,  6,  6,  3,  4,  7,  5,  4,\n",
              "        4,  5,  6,  5,  4,  6,  4,  7,  3,  6,  8,  3,  4,  5,  4,  3,  6,\n",
              "        6,  6,  4,  8,  5,  6,  6,  4,  6,  6,  6,  1,  3,  6,  5,  4,  5,\n",
              "        6,  6,  8,  4,  5,  7,  6,  6,  3,  6,  4,  8,  2,  5,  5,  5,  4,\n",
              "        3,  7,  5,  5,  5,  5,  5,  6,  5,  6,  2,  3,  5,  9,  4,  1,  6,\n",
              "        0,  5,  5,  5,  7,  9,  5,  4,  5,  8,  4,  5,  5,  5,  4,  7,  4,\n",
              "        7,  5,  5,  5,  4,  3,  3,  4,  6,  4,  7,  7,  6,  3,  6,  5,  4,\n",
              "        7,  3,  4,  4,  6,  3,  2,  7,  7,  8,  5,  3,  6,  6,  6,  7,  6,\n",
              "        7,  6,  7,  8,  4,  3,  5,  4,  5,  4,  4,  4,  3,  6,  8,  5,  3,\n",
              "        5,  3,  7,  4,  5,  6,  4,  5,  5,  6,  5,  5,  6,  6,  3,  4,  4,\n",
              "        4,  5,  3,  7,  5,  3,  6,  5,  5,  7,  5,  6,  4,  5,  8,  3,  7,\n",
              "        7,  7,  5,  4,  5,  6,  6,  4,  4,  6,  7,  7,  5,  5,  3,  7,  6,\n",
              "        6,  4,  7,  5,  7,  4,  6,  7,  4,  5,  4,  6,  4,  6,  7,  7,  5,\n",
              "        5,  5,  3,  4,  7,  5,  6,  7,  7,  4,  3,  2,  8, 10,  8,  3,  5,\n",
              "        6,  6,  2,  2,  8,  3,  8,  3,  6,  7,  5,  2,  5,  5,  4,  5,  5,\n",
              "        4,  4,  6,  5,  5,  2,  2,  8,  6,  6,  6,  4,  6,  2,  6,  5,  8,\n",
              "        5,  7,  1,  6,  4,  5,  3,  6,  4,  5,  4,  3,  4,  4,  1,  5,  6,\n",
              "        4,  5,  6,  6,  6,  3,  5,  4,  3,  5,  6,  7,  6,  3,  7,  4,  4,\n",
              "        4,  4,  5,  3,  5,  3,  6,  3,  6,  3,  4,  4,  5,  7,  5,  3,  8,\n",
              "        6,  7,  7,  5,  4,  5,  5,  6,  2,  4,  4,  5,  6,  3,  3,  4,  6,\n",
              "        5,  9,  4,  6,  4,  3,  8,  3,  7,  3,  6,  5,  5,  2,  6,  4,  4,\n",
              "        7,  4,  4,  4,  2,  4,  7,  7,  4,  5,  3,  6,  6,  6,  5,  6,  5,\n",
              "        3,  7,  5,  5,  6,  4,  7,  7,  7,  6,  6,  6,  2,  6,  4,  7,  7,\n",
              "        5,  4,  6,  3,  6,  5,  4,  6,  6,  6,  3,  1,  7,  4,  5,  5,  8,\n",
              "        5,  5,  3,  4,  4,  4,  5,  6,  3,  5,  6,  7,  5,  7,  4,  7,  7,\n",
              "        7,  7,  5,  6,  4,  4,  5,  3,  5,  7,  5,  6,  4,  5,  5,  8,  5,\n",
              "        7,  7,  5,  6,  5,  6,  5,  5,  7,  5,  6,  5,  4,  6,  4,  3,  6,\n",
              "        5,  6,  6,  5,  5,  5,  5,  5,  6,  4,  5,  3,  4,  4,  3,  5,  5,\n",
              "        2,  3,  4,  4,  5,  3,  4,  5,  4,  8,  8,  2,  5,  4,  4,  5,  5,\n",
              "        6,  8,  4,  5,  4,  5,  5,  5,  3,  5,  4,  6,  4,  7,  3,  3,  2,\n",
              "        6,  5,  2,  7,  5,  7,  3,  7,  7,  5,  9,  4,  4,  5,  4,  7,  5,\n",
              "        4,  5,  3,  3,  7,  6,  7,  4,  5,  1,  5,  4,  5,  1,  3,  3,  4,\n",
              "        5,  6,  5,  6,  6,  6,  4,  1,  5,  5,  4,  5,  6,  4,  4,  7,  4,\n",
              "        7,  5,  4,  6,  6,  5,  5,  8,  8,  5,  3,  6,  7,  4,  4,  6,  3,\n",
              "        7,  6,  5,  4,  3,  4,  2,  6,  4,  7,  6,  5,  6,  5,  6,  6,  6,\n",
              "        8,  6,  4,  5,  4,  7,  6,  4,  5,  9,  5,  1,  6,  4,  8,  6,  4,\n",
              "        6,  6,  7,  5,  4,  7,  4,  4,  6,  6,  4,  2,  6,  6,  5,  3,  7,\n",
              "        7,  6,  6,  6,  5,  6,  3,  5,  6,  6,  4,  4,  5,  4,  6,  5,  3,\n",
              "        3,  6,  4,  5,  5,  7,  6,  7,  6,  4,  5,  4,  8,  4])"
            ]
          },
          "metadata": {},
          "execution_count": 22
        }
      ]
    },
    {
      "cell_type": "markdown",
      "source": [
        "In this example, each number in the resultant array can be thought of as the number \n",
        "of heads achieved in the ten tosses of each of the 1000 coins."
      ],
      "metadata": {
        "id": "PPnTvbu0QD-u"
      }
    },
    {
      "cell_type": "markdown",
      "source": [
        "Create two more vectors of length 50, using the np.random.normal function, with mean and \n",
        "standard deviation values of your choosing. Call these vectors “normal2” and “normal3”. To \n",
        "combine these three vectors (normal2, normal3, and series which we created above) into a \n",
        "dataframe, use the following:"
      ],
      "metadata": {
        "id": "aP_fRPZ5QG61"
      }
    },
    {
      "cell_type": "code",
      "source": [
        "#series = np.random.normal(10, 2, 50)\n",
        "normal2 = np.random.normal(10, 2, 50)\n",
        "normal3 = np.random.normal(10, 4, 50)"
      ],
      "metadata": {
        "id": "bLhts8K3QJrN"
      },
      "execution_count": 27,
      "outputs": []
    },
    {
      "cell_type": "code",
      "source": [
        "df = pd.DataFrame()\n",
        "df['Series'] = series\n",
        "df['Normal2'] = normal2\n",
        "df['Normal3'] = normal3\n",
        "df.head()"
      ],
      "metadata": {
        "colab": {
          "base_uri": "https://localhost:8080/",
          "height": 206
        },
        "id": "CD-sGM9PQHej",
        "outputId": "0133ff45-5b44-475f-810c-b8eb56b1be40"
      },
      "execution_count": 28,
      "outputs": [
        {
          "output_type": "execute_result",
          "data": {
            "text/html": [
              "\n",
              "  <div id=\"df-56546a29-5275-44b6-96a4-19e0e4c02cbe\">\n",
              "    <div class=\"colab-df-container\">\n",
              "      <div>\n",
              "<style scoped>\n",
              "    .dataframe tbody tr th:only-of-type {\n",
              "        vertical-align: middle;\n",
              "    }\n",
              "\n",
              "    .dataframe tbody tr th {\n",
              "        vertical-align: top;\n",
              "    }\n",
              "\n",
              "    .dataframe thead th {\n",
              "        text-align: right;\n",
              "    }\n",
              "</style>\n",
              "<table border=\"1\" class=\"dataframe\">\n",
              "  <thead>\n",
              "    <tr style=\"text-align: right;\">\n",
              "      <th></th>\n",
              "      <th>Series</th>\n",
              "      <th>Normal2</th>\n",
              "      <th>Normal3</th>\n",
              "    </tr>\n",
              "  </thead>\n",
              "  <tbody>\n",
              "    <tr>\n",
              "      <th>0</th>\n",
              "      <td>9.802854</td>\n",
              "      <td>7.356566</td>\n",
              "      <td>8.075082</td>\n",
              "    </tr>\n",
              "    <tr>\n",
              "      <th>1</th>\n",
              "      <td>11.026807</td>\n",
              "      <td>11.737816</td>\n",
              "      <td>15.796423</td>\n",
              "    </tr>\n",
              "    <tr>\n",
              "      <th>2</th>\n",
              "      <td>9.599000</td>\n",
              "      <td>8.736892</td>\n",
              "      <td>11.013133</td>\n",
              "    </tr>\n",
              "    <tr>\n",
              "      <th>3</th>\n",
              "      <td>10.500666</td>\n",
              "      <td>11.361548</td>\n",
              "      <td>10.470448</td>\n",
              "    </tr>\n",
              "    <tr>\n",
              "      <th>4</th>\n",
              "      <td>12.715101</td>\n",
              "      <td>10.125729</td>\n",
              "      <td>9.479228</td>\n",
              "    </tr>\n",
              "  </tbody>\n",
              "</table>\n",
              "</div>\n",
              "      <button class=\"colab-df-convert\" onclick=\"convertToInteractive('df-56546a29-5275-44b6-96a4-19e0e4c02cbe')\"\n",
              "              title=\"Convert this dataframe to an interactive table.\"\n",
              "              style=\"display:none;\">\n",
              "        \n",
              "  <svg xmlns=\"http://www.w3.org/2000/svg\" height=\"24px\"viewBox=\"0 0 24 24\"\n",
              "       width=\"24px\">\n",
              "    <path d=\"M0 0h24v24H0V0z\" fill=\"none\"/>\n",
              "    <path d=\"M18.56 5.44l.94 2.06.94-2.06 2.06-.94-2.06-.94-.94-2.06-.94 2.06-2.06.94zm-11 1L8.5 8.5l.94-2.06 2.06-.94-2.06-.94L8.5 2.5l-.94 2.06-2.06.94zm10 10l.94 2.06.94-2.06 2.06-.94-2.06-.94-.94-2.06-.94 2.06-2.06.94z\"/><path d=\"M17.41 7.96l-1.37-1.37c-.4-.4-.92-.59-1.43-.59-.52 0-1.04.2-1.43.59L10.3 9.45l-7.72 7.72c-.78.78-.78 2.05 0 2.83L4 21.41c.39.39.9.59 1.41.59.51 0 1.02-.2 1.41-.59l7.78-7.78 2.81-2.81c.8-.78.8-2.07 0-2.86zM5.41 20L4 18.59l7.72-7.72 1.47 1.35L5.41 20z\"/>\n",
              "  </svg>\n",
              "      </button>\n",
              "      \n",
              "  <style>\n",
              "    .colab-df-container {\n",
              "      display:flex;\n",
              "      flex-wrap:wrap;\n",
              "      gap: 12px;\n",
              "    }\n",
              "\n",
              "    .colab-df-convert {\n",
              "      background-color: #E8F0FE;\n",
              "      border: none;\n",
              "      border-radius: 50%;\n",
              "      cursor: pointer;\n",
              "      display: none;\n",
              "      fill: #1967D2;\n",
              "      height: 32px;\n",
              "      padding: 0 0 0 0;\n",
              "      width: 32px;\n",
              "    }\n",
              "\n",
              "    .colab-df-convert:hover {\n",
              "      background-color: #E2EBFA;\n",
              "      box-shadow: 0px 1px 2px rgba(60, 64, 67, 0.3), 0px 1px 3px 1px rgba(60, 64, 67, 0.15);\n",
              "      fill: #174EA6;\n",
              "    }\n",
              "\n",
              "    [theme=dark] .colab-df-convert {\n",
              "      background-color: #3B4455;\n",
              "      fill: #D2E3FC;\n",
              "    }\n",
              "\n",
              "    [theme=dark] .colab-df-convert:hover {\n",
              "      background-color: #434B5C;\n",
              "      box-shadow: 0px 1px 3px 1px rgba(0, 0, 0, 0.15);\n",
              "      filter: drop-shadow(0px 1px 2px rgba(0, 0, 0, 0.3));\n",
              "      fill: #FFFFFF;\n",
              "    }\n",
              "  </style>\n",
              "\n",
              "      <script>\n",
              "        const buttonEl =\n",
              "          document.querySelector('#df-56546a29-5275-44b6-96a4-19e0e4c02cbe button.colab-df-convert');\n",
              "        buttonEl.style.display =\n",
              "          google.colab.kernel.accessAllowed ? 'block' : 'none';\n",
              "\n",
              "        async function convertToInteractive(key) {\n",
              "          const element = document.querySelector('#df-56546a29-5275-44b6-96a4-19e0e4c02cbe');\n",
              "          const dataTable =\n",
              "            await google.colab.kernel.invokeFunction('convertToInteractive',\n",
              "                                                     [key], {});\n",
              "          if (!dataTable) return;\n",
              "\n",
              "          const docLinkHtml = 'Like what you see? Visit the ' +\n",
              "            '<a target=\"_blank\" href=https://colab.research.google.com/notebooks/data_table.ipynb>data table notebook</a>'\n",
              "            + ' to learn more about interactive tables.';\n",
              "          element.innerHTML = '';\n",
              "          dataTable['output_type'] = 'display_data';\n",
              "          await google.colab.output.renderOutput(dataTable, element);\n",
              "          const docLink = document.createElement('div');\n",
              "          docLink.innerHTML = docLinkHtml;\n",
              "          element.appendChild(docLink);\n",
              "        }\n",
              "      </script>\n",
              "    </div>\n",
              "  </div>\n",
              "  "
            ],
            "text/plain": [
              "      Series    Normal2    Normal3\n",
              "0   9.802854   7.356566   8.075082\n",
              "1  11.026807  11.737816  15.796423\n",
              "2   9.599000   8.736892  11.013133\n",
              "3  10.500666  11.361548  10.470448\n",
              "4  12.715101  10.125729   9.479228"
            ]
          },
          "metadata": {},
          "execution_count": 28
        }
      ]
    },
    {
      "cell_type": "markdown",
      "source": [
        "To save this new data so that it can be accessed and used later and outside Python, we can \n",
        "save it in .csv format using the write.csv function. Use the following command:\n"
      ],
      "metadata": {
        "id": "438j0QDAQ47A"
      }
    },
    {
      "cell_type": "code",
      "source": [
        "df.to_csv('normal.csv')\n"
      ],
      "metadata": {
        "id": "f_4Zy3uoQ5cp"
      },
      "execution_count": 29,
      "outputs": []
    },
    {
      "cell_type": "markdown",
      "source": [
        "This will take the data object named df, and write that as a .csv file named “normal.csv”, \n",
        "saved within the folder that is set as the working directory. If you wish to save the file to a \n",
        "location other than the working directory, you must enter the full file path of the location"
      ],
      "metadata": {
        "id": "bR7MwANIRexn"
      }
    },
    {
      "cell_type": "markdown",
      "source": [
        "## Iris Dataset"
      ],
      "metadata": {
        "id": "hm7e28bQRj9z"
      }
    },
    {
      "cell_type": "markdown",
      "source": [
        "#Need to find the iris dataset to complete this task"
      ],
      "metadata": {
        "id": "bR1fthl6RnAo"
      }
    }
  ]
}